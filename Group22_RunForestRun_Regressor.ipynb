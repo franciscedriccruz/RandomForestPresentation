{
 "cells": [
  {
   "cell_type": "markdown",
   "metadata": {},
   "source": [
    "# Group 22 - Random Forest & Decision Tree - Regression"
   ]
  },
  {
   "cell_type": "markdown",
   "metadata": {},
   "source": [
    "# 1.0 Import Libraries"
   ]
  },
  {
   "cell_type": "code",
   "execution_count": 1,
   "metadata": {},
   "outputs": [],
   "source": [
    "# ! pip install graphviz\n",
    "# ! pip install pydotplus\n",
    "from sklearn.tree import export_graphviz\n",
    "\n",
    "import numpy as np\n",
    "import matplotlib.pyplot as plt\n",
    "import seaborn as sns\n",
    "import pandas as pd\n",
    "import scipy as sp\n",
    "import itertools\n",
    "\n",
    "from sklearn.ensemble import RandomForestClassifier\n",
    "from sklearn.ensemble import RandomForestRegressor\n",
    "from sklearn.tree import DecisionTreeClassifier\n",
    "from sklearn.tree import DecisionTreeRegressor\n",
    "\n",
    "from sklearn.model_selection import train_test_split, GridSearchCV\n",
    "from sklearn.metrics import accuracy_score, classification_report, confusion_matrix, roc_curve, auc, mean_squared_error\n",
    "from sklearn.preprocessing import label_binarize\n",
    "from sklearn.model_selection import cross_val_score\n",
    "from sklearn.model_selection import cross_val_predict\n",
    "from urllib.request import urlopen\n",
    "from sklearn.preprocessing import StandardScaler\n",
    "\n",
    "from sklearn.externals.six import StringIO  \n",
    "from IPython.display import Image  \n",
    "#import pydotplus"
   ]
  },
  {
   "cell_type": "markdown",
   "metadata": {},
   "source": [
    "# 2.0 Import Data"
   ]
  },
  {
   "cell_type": "markdown",
   "metadata": {},
   "source": [
    "Given certain aspects of a house, provide an estimate to the property's sale price in dollars. \n",
    "\n",
    "Information of all features is provided in the attached text file. "
   ]
  },
  {
   "cell_type": "code",
   "execution_count": 2,
   "metadata": {
    "scrolled": true
   },
   "outputs": [],
   "source": [
    "# load testing and training data provided in https://www.kaggle.com/c/house-prices-advanced-regression-techniques \n",
    "train_housing_data = pd.read_csv('train_housing.csv')\n",
    "test_housing_data = pd.read_csv('test_housing.csv')\n",
    "\n",
    "# Convert column of price into per dollar to per thousands of dollars\n",
    "train_housing_data['SalePrice']= train_housing_data['SalePrice'].apply(lambda x: x/1000)"
   ]
  },
  {
   "cell_type": "code",
   "execution_count": 3,
   "metadata": {},
   "outputs": [
    {
     "data": {
      "text/plain": [
       "<matplotlib.axes._subplots.AxesSubplot at 0x108beab70>"
      ]
     },
     "execution_count": 3,
     "metadata": {},
     "output_type": "execute_result"
    },
    {
     "data": {
      "image/png": "[encoded data removed]",
      "text/plain": [
       "<matplotlib.figure.Figure at 0x10955e898>"
      ]
     },
     "metadata": {},
     "output_type": "display_data"
    }
   ],
   "source": [
    "# Plot distribution of target column\n",
    "train_housing_data['SalePrice'].hist()"
   ]
  },
  {
   "cell_type": "code",
   "execution_count": 4,
   "metadata": {},
   "outputs": [],
   "source": [
    "# Merge provided training and test file together, excluding the sale price\n",
    "merged_data = pd.concat((train_housing_data.loc[:,'MSSubClass':'SaleCondition'],\n",
    "                       test_housing_data.loc[:,'MSSubClass':'SaleCondition']))"
   ]
  },
  {
   "cell_type": "code",
   "execution_count": 5,
   "metadata": {},
   "outputs": [
    {
     "data": {
      "text/html": [
       "<div>\n",
       "<style scoped>\n",
       "    .dataframe tbody tr th:only-of-type {\n",
       "        vertical-align: middle;\n",
       "    }\n",
       "\n",
       "    .dataframe tbody tr th {\n",
       "        vertical-align: top;\n",
       "    }\n",
       "\n",
       "    .dataframe thead th {\n",
       "        text-align: right;\n",
       "    }\n",
       "</style>\n",
       "<table border=\"1\" class=\"dataframe\">\n",
       "  <thead>\n",
       "    <tr style=\"text-align: right;\">\n",
       "      <th></th>\n",
       "      <th>MSSubClass</th>\n",
       "      <th>MSZoning</th>\n",
       "      <th>LotFrontage</th>\n",
       "      <th>LotArea</th>\n",
       "      <th>Street</th>\n",
       "      <th>Alley</th>\n",
       "      <th>LotShape</th>\n",
       "      <th>LandContour</th>\n",
       "      <th>Utilities</th>\n",
       "      <th>LotConfig</th>\n",
       "      <th>...</th>\n",
       "      <th>ScreenPorch</th>\n",
       "      <th>PoolArea</th>\n",
       "      <th>PoolQC</th>\n",
       "      <th>Fence</th>\n",
       "      <th>MiscFeature</th>\n",
       "      <th>MiscVal</th>\n",
       "      <th>MoSold</th>\n",
       "      <th>YrSold</th>\n",
       "      <th>SaleType</th>\n",
       "      <th>SaleCondition</th>\n",
       "    </tr>\n",
       "  </thead>\n",
       "  <tbody>\n",
       "    <tr>\n",
       "      <th>0</th>\n",
       "      <td>60</td>\n",
       "      <td>RL</td>\n",
       "      <td>65.0</td>\n",
       "      <td>8450</td>\n",
       "      <td>Pave</td>\n",
       "      <td>NaN</td>\n",
       "      <td>Reg</td>\n",
       "      <td>Lvl</td>\n",
       "      <td>AllPub</td>\n",
       "      <td>Inside</td>\n",
       "      <td>...</td>\n",
       "      <td>0</td>\n",
       "      <td>0</td>\n",
       "      <td>NaN</td>\n",
       "      <td>NaN</td>\n",
       "      <td>NaN</td>\n",
       "      <td>0</td>\n",
       "      <td>2</td>\n",
       "      <td>2008</td>\n",
       "      <td>WD</td>\n",
       "      <td>Normal</td>\n",
       "    </tr>\n",
       "    <tr>\n",
       "      <th>1</th>\n",
       "      <td>20</td>\n",
       "      <td>RL</td>\n",
       "      <td>80.0</td>\n",
       "      <td>9600</td>\n",
       "      <td>Pave</td>\n",
       "      <td>NaN</td>\n",
       "      <td>Reg</td>\n",
       "      <td>Lvl</td>\n",
       "      <td>AllPub</td>\n",
       "      <td>FR2</td>\n",
       "      <td>...</td>\n",
       "      <td>0</td>\n",
       "      <td>0</td>\n",
       "      <td>NaN</td>\n",
       "      <td>NaN</td>\n",
       "      <td>NaN</td>\n",
       "      <td>0</td>\n",
       "      <td>5</td>\n",
       "      <td>2007</td>\n",
       "      <td>WD</td>\n",
       "      <td>Normal</td>\n",
       "    </tr>\n",
       "    <tr>\n",
       "      <th>2</th>\n",
       "      <td>60</td>\n",
       "      <td>RL</td>\n",
       "      <td>68.0</td>\n",
       "      <td>11250</td>\n",
       "      <td>Pave</td>\n",
       "      <td>NaN</td>\n",
       "      <td>IR1</td>\n",
       "      <td>Lvl</td>\n",
       "      <td>AllPub</td>\n",
       "      <td>Inside</td>\n",
       "      <td>...</td>\n",
       "      <td>0</td>\n",
       "      <td>0</td>\n",
       "      <td>NaN</td>\n",
       "      <td>NaN</td>\n",
       "      <td>NaN</td>\n",
       "      <td>0</td>\n",
       "      <td>9</td>\n",
       "      <td>2008</td>\n",
       "      <td>WD</td>\n",
       "      <td>Normal</td>\n",
       "    </tr>\n",
       "    <tr>\n",
       "      <th>3</th>\n",
       "      <td>70</td>\n",
       "      <td>RL</td>\n",
       "      <td>60.0</td>\n",
       "      <td>9550</td>\n",
       "      <td>Pave</td>\n",
       "      <td>NaN</td>\n",
       "      <td>IR1</td>\n",
       "      <td>Lvl</td>\n",
       "      <td>AllPub</td>\n",
       "      <td>Corner</td>\n",
       "      <td>...</td>\n",
       "      <td>0</td>\n",
       "      <td>0</td>\n",
       "      <td>NaN</td>\n",
       "      <td>NaN</td>\n",
       "      <td>NaN</td>\n",
       "      <td>0</td>\n",
       "      <td>2</td>\n",
       "      <td>2006</td>\n",
       "      <td>WD</td>\n",
       "      <td>Abnorml</td>\n",
       "    </tr>\n",
       "    <tr>\n",
       "      <th>4</th>\n",
       "      <td>60</td>\n",
       "      <td>RL</td>\n",
       "      <td>84.0</td>\n",
       "      <td>14260</td>\n",
       "      <td>Pave</td>\n",
       "      <td>NaN</td>\n",
       "      <td>IR1</td>\n",
       "      <td>Lvl</td>\n",
       "      <td>AllPub</td>\n",
       "      <td>FR2</td>\n",
       "      <td>...</td>\n",
       "      <td>0</td>\n",
       "      <td>0</td>\n",
       "      <td>NaN</td>\n",
       "      <td>NaN</td>\n",
       "      <td>NaN</td>\n",
       "      <td>0</td>\n",
       "      <td>12</td>\n",
       "      <td>2008</td>\n",
       "      <td>WD</td>\n",
       "      <td>Normal</td>\n",
       "    </tr>\n",
       "  </tbody>\n",
       "</table>\n",
       "<p>5 rows × 79 columns</p>\n",
       "</div>"
      ],
      "text/plain": [
       "   MSSubClass MSZoning  LotFrontage  LotArea Street Alley LotShape  \\\n",
       "0          60       RL         65.0     8450   Pave   NaN      Reg   \n",
       "1          20       RL         80.0     9600   Pave   NaN      Reg   \n",
       "2          60       RL         68.0    11250   Pave   NaN      IR1   \n",
       "3          70       RL         60.0     9550   Pave   NaN      IR1   \n",
       "4          60       RL         84.0    14260   Pave   NaN      IR1   \n",
       "\n",
       "  LandContour Utilities LotConfig      ...       ScreenPorch PoolArea PoolQC  \\\n",
       "0         Lvl    AllPub    Inside      ...                 0        0    NaN   \n",
       "1         Lvl    AllPub       FR2      ...                 0        0    NaN   \n",
       "2         Lvl    AllPub    Inside      ...                 0        0    NaN   \n",
       "3         Lvl    AllPub    Corner      ...                 0        0    NaN   \n",
       "4         Lvl    AllPub       FR2      ...                 0        0    NaN   \n",
       "\n",
       "  Fence MiscFeature MiscVal  MoSold  YrSold  SaleType  SaleCondition  \n",
       "0   NaN         NaN       0       2    2008        WD         Normal  \n",
       "1   NaN         NaN       0       5    2007        WD         Normal  \n",
       "2   NaN         NaN       0       9    2008        WD         Normal  \n",
       "3   NaN         NaN       0       2    2006        WD        Abnorml  \n",
       "4   NaN         NaN       0      12    2008        WD         Normal  \n",
       "\n",
       "[5 rows x 79 columns]"
      ]
     },
     "execution_count": 5,
     "metadata": {},
     "output_type": "execute_result"
    }
   ],
   "source": [
    "merged_data.head()"
   ]
  },
  {
   "cell_type": "code",
   "execution_count": 6,
   "metadata": {},
   "outputs": [
    {
     "name": "stdout",
     "output_type": "stream",
     "text": [
      "MSSubClass : int64 , False , 0\n",
      "MSZoning : object , True , 4\n",
      "LotFrontage : float64 , True , 486\n",
      "LotArea : int64 , False , 0\n",
      "Street : object , False , 0\n",
      "Alley : object , True , 2721\n",
      "LotShape : object , False , 0\n",
      "LandContour : object , False , 0\n",
      "Utilities : object , True , 2\n",
      "LotConfig : object , False , 0\n",
      "LandSlope : object , False , 0\n",
      "Neighborhood : object , False , 0\n",
      "Condition1 : object , False , 0\n",
      "Condition2 : object , False , 0\n",
      "BldgType : object , False , 0\n",
      "HouseStyle : object , False , 0\n",
      "OverallQual : int64 , False , 0\n",
      "OverallCond : int64 , False , 0\n",
      "YearBuilt : int64 , False , 0\n",
      "YearRemodAdd : int64 , False , 0\n",
      "RoofStyle : object , False , 0\n",
      "RoofMatl : object , False , 0\n",
      "Exterior1st : object , True , 1\n",
      "Exterior2nd : object , True , 1\n",
      "MasVnrType : object , True , 24\n",
      "MasVnrArea : float64 , True , 23\n",
      "ExterQual : object , False , 0\n",
      "ExterCond : object , False , 0\n",
      "Foundation : object , False , 0\n",
      "BsmtQual : object , True , 81\n",
      "BsmtCond : object , True , 82\n",
      "BsmtExposure : object , True , 82\n",
      "BsmtFinType1 : object , True , 79\n",
      "BsmtFinSF1 : float64 , True , 1\n",
      "BsmtFinType2 : object , True , 80\n",
      "BsmtFinSF2 : float64 , True , 1\n",
      "BsmtUnfSF : float64 , True , 1\n",
      "TotalBsmtSF : float64 , True , 1\n",
      "Heating : object , False , 0\n",
      "HeatingQC : object , False , 0\n",
      "CentralAir : object , False , 0\n",
      "Electrical : object , True , 1\n",
      "1stFlrSF : int64 , False , 0\n",
      "2ndFlrSF : int64 , False , 0\n",
      "LowQualFinSF : int64 , False , 0\n",
      "GrLivArea : int64 , False , 0\n",
      "BsmtFullBath : float64 , True , 2\n",
      "BsmtHalfBath : float64 , True , 2\n",
      "FullBath : int64 , False , 0\n",
      "HalfBath : int64 , False , 0\n",
      "BedroomAbvGr : int64 , False , 0\n",
      "KitchenAbvGr : int64 , False , 0\n",
      "KitchenQual : object , True , 1\n",
      "TotRmsAbvGrd : int64 , False , 0\n",
      "Functional : object , True , 2\n",
      "Fireplaces : int64 , False , 0\n",
      "FireplaceQu : object , True , 1420\n",
      "GarageType : object , True , 157\n",
      "GarageYrBlt : float64 , True , 159\n",
      "GarageFinish : object , True , 159\n",
      "GarageCars : float64 , True , 1\n",
      "GarageArea : float64 , True , 1\n",
      "GarageQual : object , True , 159\n",
      "GarageCond : object , True , 159\n",
      "PavedDrive : object , False , 0\n",
      "WoodDeckSF : int64 , False , 0\n",
      "OpenPorchSF : int64 , False , 0\n",
      "EnclosedPorch : int64 , False , 0\n",
      "3SsnPorch : int64 , False , 0\n",
      "ScreenPorch : int64 , False , 0\n",
      "PoolArea : int64 , False , 0\n",
      "PoolQC : object , True , 2909\n",
      "Fence : object , True , 2348\n",
      "MiscFeature : object , True , 2814\n",
      "MiscVal : int64 , False , 0\n",
      "MoSold : int64 , False , 0\n",
      "YrSold : int64 , False , 0\n",
      "SaleType : object , True , 1\n",
      "SaleCondition : object , False , 0\n",
      "There were 79 unique features\n"
     ]
    }
   ],
   "source": [
    "# Check for empty data\n",
    "for parameter in merged_data:\n",
    "    print(parameter,':', merged_data[parameter].dtypes,  ',', merged_data[parameter].hasnans, ',', merged_data[parameter].isna().sum())\n",
    "    \n",
    "print('There were', len(merged_data.columns), 'unique features')"
   ]
  },
  {
   "cell_type": "code",
   "execution_count": 7,
   "metadata": {},
   "outputs": [],
   "source": [
    "# convert categorical data to numerics\n",
    "merged_data = pd.get_dummies(merged_data)"
   ]
  },
  {
   "cell_type": "code",
   "execution_count": 8,
   "metadata": {},
   "outputs": [
    {
     "name": "stdout",
     "output_type": "stream",
     "text": [
      "After getting dummies there were 288 unique features\n"
     ]
    }
   ],
   "source": [
    "print('After getting dummies there were', len(merged_data.columns), 'unique features')"
   ]
  },
  {
   "cell_type": "code",
   "execution_count": 9,
   "metadata": {},
   "outputs": [],
   "source": [
    "# remove NaN values and estimate with interpolated values\n",
    "merged_data = merged_data.fillna(merged_data.interpolate())"
   ]
  },
  {
   "cell_type": "markdown",
   "metadata": {},
   "source": [
    "# 2.0 Split Data into Training and Test"
   ]
  },
  {
   "cell_type": "code",
   "execution_count": 10,
   "metadata": {},
   "outputs": [],
   "source": [
    "X_features_train_file = merged_data[:len(train_housing_data)]\n",
    "X_features_test_file = merged_data[:len(test_housing_data)]\n",
    "y_train_file = train_housing_data['SalePrice']/1000"
   ]
  },
  {
   "cell_type": "code",
   "execution_count": 11,
   "metadata": {},
   "outputs": [],
   "source": [
    "# Split to training and test\n",
    "X_train, X_test, y_train, y_test = train_test_split(X_features_train_file, y_train_file, test_size = 0.30,random_state = 42)"
   ]
  },
  {
   "cell_type": "code",
   "execution_count": 12,
   "metadata": {},
   "outputs": [],
   "source": [
    "# Define functions that will be used for all models\n",
    "\n",
    "def bias(y_predict,y):\n",
    "    y_predict = np.array(y_predict)\n",
    "    return np.average(np.power((y_predict-y),2))\n",
    "\n",
    "def variance(y_predict):\n",
    "    y_predict = np.array(y_predict)\n",
    "    return np.var(y_predict)\n",
    "\n",
    "# from: http://scikit-learn.org/stable/auto_examples/model_selection/plot_confusion_matrix.html\n",
    "def plot_confusion_matrix(cm, classes,\n",
    "                          normalize=False,\n",
    "                          title='Confusion matrix',\n",
    "                          cmap=plt.cm.Blues):\n",
    "    \"\"\"\n",
    "    This function prints and plots the confusion matrix.\n",
    "    Normalization can be applied by setting `normalize=True`.\n",
    "    \"\"\"\n",
    "    if normalize:\n",
    "        cm = cm.astype('float') / cm.sum(axis=1)[:, np.newaxis]\n",
    "        print(\"Normalized confusion matrix\")\n",
    "    else:\n",
    "        print('Confusion matrix, without normalization')\n",
    "    plt.imshow(cm, interpolation='nearest', cmap=cmap)\n",
    "    plt.title(title)\n",
    "    plt.colorbar()\n",
    "    tick_marks = np.arange(len(classes))\n",
    "    plt.xticks(tick_marks, classes, rotation=90)\n",
    "    plt.yticks(tick_marks, classes)\n",
    "\n",
    "    fmt = '.2f' if normalize else 'd'\n",
    "    thresh = cm.max() / 2.\n",
    "    for i, j in itertools.product(range(cm.shape[0]), range(cm.shape[1])):\n",
    "        plt.text(j, i, format(cm[i, j], fmt),\n",
    "                 horizontalalignment=\"center\",\n",
    "                 color=\"white\" if cm[i, j] > thresh else \"black\")\n",
    "\n",
    "    plt.ylabel('True label')\n",
    "    plt.xlabel('Predicted label')\n",
    "    plt.tight_layout()"
   ]
  },
  {
   "cell_type": "markdown",
   "metadata": {},
   "source": [
    "# Decision Tree Regression"
   ]
  },
  {
   "cell_type": "markdown",
   "metadata": {},
   "source": [
    "### Optimize Model using Grid Search"
   ]
  },
  {
   "cell_type": "code",
   "execution_count": 13,
   "metadata": {},
   "outputs": [
    {
     "data": {
      "text/plain": [
       "DecisionTreeRegressor(criterion='mse', max_depth=None, max_features=None,\n",
       "           max_leaf_nodes=None, min_impurity_decrease=0.0,\n",
       "           min_impurity_split=None, min_samples_leaf=1,\n",
       "           min_samples_split=2, min_weight_fraction_leaf=0.0,\n",
       "           presort=False, random_state=42, splitter='best')"
      ]
     },
     "execution_count": 13,
     "metadata": {},
     "output_type": "execute_result"
    }
   ],
   "source": [
    "# Create instance of a DecisionTreeRegressor\n",
    "fit_dtr = DecisionTreeRegressor(random_state=42)\n",
    "fit_dtr"
   ]
  },
  {
   "cell_type": "code",
   "execution_count": 14,
   "metadata": {},
   "outputs": [
    {
     "name": "stdout",
     "output_type": "stream",
     "text": [
      "{'max_depth': 10, 'max_features': None, 'min_samples_leaf': 8}\n"
     ]
    },
    {
     "name": "stderr",
     "output_type": "stream",
     "text": [
      "/anaconda3/lib/python3.6/site-packages/sklearn/model_selection/_search.py:841: DeprecationWarning: The default of the `iid` parameter will change from True to False in version 0.22 and will be removed in 0.24. This will change numeric results when test-set sizes are unequal.\n",
      "  DeprecationWarning)\n"
     ]
    }
   ],
   "source": [
    "# Perform gridsearch to determine optimal parameters\n",
    "# Grid search\n",
    "param_dist = { \n",
    "        \"max_depth\"      : [5, 10, 15, 20, 25, 30, 35, 40, 45, 50],\n",
    "        \"max_features\"      : [\"sqrt\", \"log2\", None],\n",
    "        \"min_samples_leaf\" : [2, 4, 8, 10, 12, 14]\n",
    "        }\n",
    "cv_RF_reg = GridSearchCV(fit_dtr, cv = 5, param_grid=param_dist)\n",
    "cv_RF_reg.fit(X_train, y_train)\n",
    "print(cv_RF_reg.best_params_)"
   ]
  },
  {
   "cell_type": "code",
   "execution_count": 15,
   "metadata": {},
   "outputs": [
    {
     "data": {
      "text/plain": [
       "DecisionTreeRegressor(criterion='mse', max_depth=45, max_features=None,\n",
       "           max_leaf_nodes=None, min_impurity_decrease=0.0,\n",
       "           min_impurity_split=None, min_samples_leaf=8,\n",
       "           min_samples_split=2, min_weight_fraction_leaf=0.0,\n",
       "           presort=False, random_state=42, splitter='best')"
      ]
     },
     "execution_count": 15,
     "metadata": {},
     "output_type": "execute_result"
    }
   ],
   "source": [
    "fit_dtr.set_params(max_depth= 45, \n",
    "                   max_features= None, \n",
    "                   min_samples_leaf= 8)"
   ]
  },
  {
   "cell_type": "code",
   "execution_count": 16,
   "metadata": {},
   "outputs": [
    {
     "data": {
      "text/plain": [
       "DecisionTreeRegressor(criterion='mse', max_depth=45, max_features=None,\n",
       "           max_leaf_nodes=None, min_impurity_decrease=0.0,\n",
       "           min_impurity_split=None, min_samples_leaf=8,\n",
       "           min_samples_split=2, min_weight_fraction_leaf=0.0,\n",
       "           presort=False, random_state=42, splitter='best')"
      ]
     },
     "execution_count": 16,
     "metadata": {},
     "output_type": "execute_result"
    }
   ],
   "source": [
    "fit_dtr.fit(X_train,y_train)"
   ]
  },
  {
   "cell_type": "code",
   "execution_count": 17,
   "metadata": {},
   "outputs": [
    {
     "name": "stdout",
     "output_type": "stream",
     "text": [
      "Accuracy of decision tree classifier on Train set: 0.877\n"
     ]
    }
   ],
   "source": [
    "print('Accuracy of decision tree classifier on Train set: {:.3f}'.format(fit_dtr.score(X_train, y_train)))"
   ]
  },
  {
   "cell_type": "code",
   "execution_count": 18,
   "metadata": {},
   "outputs": [
    {
     "name": "stdout",
     "output_type": "stream",
     "text": [
      "Accuracy of decision tree classifier on Test set: 0.746\n"
     ]
    }
   ],
   "source": [
    "print('Accuracy of decision tree classifier on Test set: {:.3f}'.format(fit_dtr.score(X_test, y_test)))"
   ]
  },
  {
   "cell_type": "code",
   "execution_count": 19,
   "metadata": {},
   "outputs": [
    {
     "name": "stdout",
     "output_type": "stream",
     "text": [
      "The average score using CV is 78.04%\n"
     ]
    }
   ],
   "source": [
    "# cross validation with cv = 5\n",
    "scores_DT_regressor = cross_val_score(fit_dtr, X_features_train_file, y_train_file, cv = 5)\n",
    "ave_score_DT_regressor = np.mean(scores_DT_regressor)*100\n",
    "print('The average score using CV is %.2f%%' % ave_score_DT_regressor)"
   ]
  },
  {
   "cell_type": "markdown",
   "metadata": {},
   "source": [
    "### Max-Depth Tuning Example"
   ]
  },
  {
   "cell_type": "code",
   "execution_count": 20,
   "metadata": {},
   "outputs": [],
   "source": [
    "# Change hyperparamters to see effect on bias and variance\n",
    "max_depth_DT_regression = np.arange(2,50)\n",
    "accuracy_DT_regression_score_list = []\n",
    "bias_DT_regression_list = []\n",
    "var_DT_regression_list = []\n",
    "total_DT_regression_list = []\n",
    "err_DT_regression_list_test = []\n",
    "err_DT_regression_list_training = []\n",
    "err_tot_DT_regression_list = []\n",
    "cv_error_DT_regression = []\n",
    "score_DT_regression_list_test = []\n",
    "score_DT_regression_list_training = []\n",
    "\n",
    "model_DT_regressor = DecisionTreeRegressor(random_state=42)\n",
    "\n",
    "for entry in max_depth_DT_regression:\n",
    "    # model fit and predict\n",
    "    model_DT_regressor.set_params(max_depth=entry)\n",
    "    model_DT_regressor.fit(X_train, y_train)\n",
    "    predicted_y_DT_regressor_test = model_DT_regressor.predict(X_test)\n",
    "    predicted_y_DT_regressor_train = model_DT_regressor.predict(X_train)\n",
    "    # bias and variance estimate\n",
    "    bias_variable = bias(predicted_y_DT_regressor_test, y_test)\n",
    "    variance_variable = variance(predicted_y_DT_regressor_test)\n",
    "    bias_DT_regression_list.append(bias_variable)\n",
    "    var_DT_regression_list.append(variance_variable)\n",
    "    total_DT_regression = bias_variable + variance_variable\n",
    "    total_DT_regression_list.append(total_DT_regression)\n",
    "    # training and test estimate\n",
    "    err_DT_test_variable =mean_squared_error(y_test,predicted_y_DT_regressor_test)\n",
    "    err_DT_training_variable = mean_squared_error(y_train, predicted_y_DT_regressor_train)\n",
    "    err_DT_tot_variable = err_DT_test_variable + err_DT_training_variable\n",
    "    err_DT_regression_list_test.append(err_DT_test_variable)\n",
    "    err_DT_regression_list_training.append(err_DT_training_variable)\n",
    "    err_tot_DT_regression_list.append(err_DT_tot_variable)\n",
    "    # average test accuracy\n",
    "    cv_error_DT_regression.append(np.mean(cross_val_score(model_DT_regressor, X_features_train_file, y_train_file, cv = 5)))\n",
    "    # R2 accuracy score\n",
    "    score_DT_regression_list_test.append(model_DT_regressor.score(X_test, y_test))\n",
    "    score_DT_regression_list_training.append(model_DT_regressor.score(X_train, y_train))"
   ]
  },
  {
   "cell_type": "markdown",
   "metadata": {},
   "source": [
    "#### Plot plot bias and variance estimated on the test set"
   ]
  },
  {
   "cell_type": "code",
   "execution_count": 21,
   "metadata": {},
   "outputs": [
    {
     "data": {
      "image/png": "[encoded data removed]",
      "text/plain": [
       "<matplotlib.figure.Figure at 0x1a1bd80a90>"
      ]
     },
     "metadata": {},
     "output_type": "display_data"
    }
   ],
   "source": [
    "# Plot bias vs variance from changing the depth of the tree\n",
    "plt.figure(figsize=(7.5,7.5))\n",
    "plt.plot(max_depth_DT_regression, bias_DT_regression_list,color = 'b')\n",
    "plt.plot(max_depth_DT_regression, var_DT_regression_list,color = 'g')\n",
    "plt.plot(max_depth_DT_regression, total_DT_regression_list,color = 'r')\n",
    "plt.legend(['Bias', 'Variance', 'Total'], loc='upper right',fontsize = 16)\n",
    "plt.title('Decision Tree: Bias Variance Trade-off',fontsize = 16)\n",
    "plt.ylabel('Error',fontsize = 16)\n",
    "plt.xlabel('Max_Depth',fontsize = 16)\n",
    "plt.ylim(0.0001,0.01)\n",
    "plt.show()"
   ]
  },
  {
   "cell_type": "markdown",
   "metadata": {},
   "source": [
    "#### Plot accuracy score to compare training performace with test performance"
   ]
  },
  {
   "cell_type": "code",
   "execution_count": 22,
   "metadata": {},
   "outputs": [
    {
     "data": {
      "image/png": "[encoded data removed]",
      "text/plain": [
       "<matplotlib.figure.Figure at 0x1a1bd80d30>"
      ]
     },
     "metadata": {},
     "output_type": "display_data"
    }
   ],
   "source": [
    "plt.figure(figsize=(7.5,7.5))\n",
    "plt.plot(max_depth_DT_regression, score_DT_regression_list_training,color = 'b')\n",
    "plt.plot(max_depth_DT_regression, score_DT_regression_list_test,color = 'r')\n",
    "plt.legend(['Training Accuracy', 'Test Accuracy'], loc='upper right',fontsize = 16)\n",
    "plt.title('Decision Tree: Accuracy',fontsize = 16)\n",
    "plt.ylabel('Accuracy',fontsize = 16)\n",
    "plt.xlabel('Max_Depth',fontsize = 16)\n",
    "#plt.ylim(0.5,1.025)\n",
    "plt.show()"
   ]
  },
  {
   "cell_type": "markdown",
   "metadata": {},
   "source": [
    "#### An alternative way to gauge the bias and variance of a model is to minimise the combined error on testing predictions and training predictions. "
   ]
  },
  {
   "cell_type": "code",
   "execution_count": 23,
   "metadata": {},
   "outputs": [
    {
     "data": {
      "image/png": "[encoded data removed]",
      "text/plain": [
       "<matplotlib.figure.Figure at 0x1a1bd58630>"
      ]
     },
     "metadata": {},
     "output_type": "display_data"
    }
   ],
   "source": [
    "# Plot test error and training error with respect to depth of the tree\n",
    "plt.figure(figsize=(7.5,7.5))\n",
    "plt.plot(max_depth_DT_regression, err_DT_regression_list_training,color = 'b')\n",
    "plt.plot(max_depth_DT_regression, err_DT_regression_list_test,color = 'g')\n",
    "plt.plot(max_depth_DT_regression, err_tot_DT_regression_list,color = 'r')\n",
    "plt.legend(['Training Error', 'Test Error', 'Total Error'], loc='upper right',fontsize = 16)\n",
    "plt.title('Decision Tree: Mean-Squared Error',fontsize = 16)\n",
    "plt.ylabel('Error',fontsize = 16)\n",
    "plt.xlabel('Max_Depth',fontsize = 16)\n",
    "#plt.ylim(0,0.01)\n",
    "plt.show()"
   ]
  },
  {
   "cell_type": "markdown",
   "metadata": {},
   "source": [
    "#### Cross validation gives a better estimate of test accuracy but we lose information on training accuracy"
   ]
  },
  {
   "cell_type": "code",
   "execution_count": 24,
   "metadata": {},
   "outputs": [
    {
     "data": {
      "image/png": "[encoded data removed]",
      "text/plain": [
       "<matplotlib.figure.Figure at 0x1a1b892cc0>"
      ]
     },
     "metadata": {},
     "output_type": "display_data"
    }
   ],
   "source": [
    "plt.figure(figsize=(7.5,7.5))\n",
    "plt.plot(max_depth_DT_regression, cv_error_DT_regression,color='k')\n",
    "plt.legend(['Cross Validation Score'], loc='upper right',fontsize=16)\n",
    "plt.title('Decision Tree: CV',fontsize=16)\n",
    "plt.ylabel('Accuracy',fontsize=16)\n",
    "plt.xlabel('Max_Depth',fontsize=16)\n",
    "plt.ylim(0.5,1.025)\n",
    "plt.show()"
   ]
  },
  {
   "cell_type": "code",
   "execution_count": 25,
   "metadata": {},
   "outputs": [],
   "source": [
    "def visualize_tree(tree, feature_names):\n",
    "    \"\"\"Create tree png using graphviz.\n",
    "\n",
    "    Args\n",
    "    ----\n",
    "    tree -- scikit-learn DecsisionTree.\n",
    "    feature_names -- list of feature names.\n",
    "    \"\"\"\n",
    "    with open(\"dt.dot\", 'w') as f:\n",
    "        export_graphviz(tree, out_file=f,\n",
    "                        feature_names=feature_names)\n",
    "\n",
    "    command = [\"dot\", \"-Tpng\", \"dt.dot\", \"-o\", \"dt.png\"]\n",
    "    try:\n",
    "        subprocess.check_call(command)\n",
    "    except:\n",
    "        exit(\"Could not run dot, ie graphviz, to \"\n",
    "             \"produce visualization\")"
   ]
  },
  {
   "cell_type": "markdown",
   "metadata": {},
   "source": [
    "# Random Forest Regression"
   ]
  },
  {
   "cell_type": "markdown",
   "metadata": {},
   "source": [
    "### Optimize model using grid search"
   ]
  },
  {
   "cell_type": "code",
   "execution_count": 26,
   "metadata": {},
   "outputs": [
    {
     "data": {
      "text/plain": [
       "RandomForestRegressor(bootstrap=True, criterion='mse', max_depth=None,\n",
       "           max_features='auto', max_leaf_nodes=None,\n",
       "           min_impurity_decrease=0.0, min_impurity_split=None,\n",
       "           min_samples_leaf=1, min_samples_split=2,\n",
       "           min_weight_fraction_leaf=0.0, n_estimators='warn', n_jobs=None,\n",
       "           oob_score=False, random_state=42, verbose=0, warm_start=False)"
      ]
     },
     "execution_count": 26,
     "metadata": {},
     "output_type": "execute_result"
    }
   ],
   "source": [
    "RF_regressor = RandomForestRegressor(random_state=42)\n",
    "RF_regressor"
   ]
  },
  {
   "cell_type": "code",
   "execution_count": 27,
   "metadata": {},
   "outputs": [
    {
     "name": "stdout",
     "output_type": "stream",
     "text": [
      "{'criterion': 'mse', 'max_depth': 20, 'max_features': 'sqrt', 'min_samples_leaf': 2, 'n_estimators': 20}\n"
     ]
    },
    {
     "name": "stderr",
     "output_type": "stream",
     "text": [
      "/anaconda3/lib/python3.6/site-packages/sklearn/model_selection/_search.py:841: DeprecationWarning: The default of the `iid` parameter will change from True to False in version 0.22 and will be removed in 0.24. This will change numeric results when test-set sizes are unequal.\n",
      "  DeprecationWarning)\n"
     ]
    }
   ],
   "source": [
    "# Grid search\n",
    "param_dist = { \n",
    "              \"n_estimators\" : [10, 20, 30, 40, 50,60],\n",
    "              'max_depth': [2, 5, 10, 20],\n",
    "              'max_features': ['sqrt', 'log2'],   \n",
    "              'min_samples_leaf' : [2, 4, 8,10,12,14],\n",
    "              'criterion': ['mae', 'mse']\n",
    "        }\n",
    "\n",
    "model_RF_regressor = RandomForestRegressor(n_jobs = -1)\n",
    "cv_RF_reg = GridSearchCV(model_RF_regressor, cv = 5, param_grid=param_dist)\n",
    "cv_RF_reg.fit(X_train, np.ravel(y_train))\n",
    "print(cv_RF_reg.best_params_)"
   ]
  },
  {
   "cell_type": "code",
   "execution_count": 28,
   "metadata": {},
   "outputs": [
    {
     "data": {
      "text/plain": [
       "RandomForestRegressor(bootstrap=True, criterion='mse', max_depth=20,\n",
       "           max_features='sqrt', max_leaf_nodes=None,\n",
       "           min_impurity_decrease=0.0, min_impurity_split=None,\n",
       "           min_samples_leaf=2, min_samples_split=2,\n",
       "           min_weight_fraction_leaf=0.0, n_estimators=60, n_jobs=None,\n",
       "           oob_score=True, random_state=42, verbose=0, warm_start=False)"
      ]
     },
     "execution_count": 28,
     "metadata": {},
     "output_type": "execute_result"
    }
   ],
   "source": [
    "RF_regressor.set_params(max_depth= 20, \n",
    "                        max_features= 'sqrt', \n",
    "                        min_samples_leaf= 2, \n",
    "                        n_estimators=60, \n",
    "                        oob_score = True,\n",
    "                        criterion = 'mse')"
   ]
  },
  {
   "cell_type": "code",
   "execution_count": 29,
   "metadata": {},
   "outputs": [
    {
     "data": {
      "text/plain": [
       "RandomForestRegressor(bootstrap=True, criterion='mse', max_depth=20,\n",
       "           max_features='sqrt', max_leaf_nodes=None,\n",
       "           min_impurity_decrease=0.0, min_impurity_split=None,\n",
       "           min_samples_leaf=2, min_samples_split=2,\n",
       "           min_weight_fraction_leaf=0.0, n_estimators=60, n_jobs=None,\n",
       "           oob_score=True, random_state=42, verbose=0, warm_start=False)"
      ]
     },
     "execution_count": 29,
     "metadata": {},
     "output_type": "execute_result"
    }
   ],
   "source": [
    "RF_regressor.fit(X_features_train_file, np.ravel(y_train_file))"
   ]
  },
  {
   "cell_type": "code",
   "execution_count": 30,
   "metadata": {},
   "outputs": [],
   "source": [
    "y_test_file = RF_regressor.predict(X_features_test_file)"
   ]
  },
  {
   "cell_type": "code",
   "execution_count": 31,
   "metadata": {},
   "outputs": [
    {
     "data": {
      "text/plain": [
       "0.9422710849539102"
      ]
     },
     "execution_count": 31,
     "metadata": {},
     "output_type": "execute_result"
    }
   ],
   "source": [
    "accuracy_RF_regressor = RF_regressor.score(X_features_train_file, y_train_file)\n",
    "accuracy_RF_regressor"
   ]
  },
  {
   "cell_type": "markdown",
   "metadata": {},
   "source": [
    "### Cross Validation vs OOB"
   ]
  },
  {
   "cell_type": "code",
   "execution_count": 32,
   "metadata": {},
   "outputs": [
    {
     "name": "stdout",
     "output_type": "stream",
     "text": [
      "The average score using Out-of-Bag estimate is 82.94%\n"
     ]
    }
   ],
   "source": [
    "# Out-of-Bag score \n",
    "ave_oob_score_RF_best_classifier = (RF_regressor.oob_score_)*100\n",
    "print('The average score using Out-of-Bag estimate is %.2f%%' % ave_oob_score_RF_best_classifier)"
   ]
  },
  {
   "cell_type": "code",
   "execution_count": 33,
   "metadata": {},
   "outputs": [
    {
     "name": "stdout",
     "output_type": "stream",
     "text": [
      "The average score using CV is 83.95%\n"
     ]
    }
   ],
   "source": [
    "# cross validation with cv = 5\n",
    "scores_RF_regressor = cross_val_score(RF_regressor, X_features_train_file, y_train_file, cv = 5)\n",
    "ave_score_RF_regressor = np.mean(scores_RF_regressor)*100\n",
    "print('The average score using CV is %.2f%%' % ave_score_RF_regressor)"
   ]
  },
  {
   "cell_type": "markdown",
   "metadata": {},
   "source": [
    "### Max_depth tuning example"
   ]
  },
  {
   "cell_type": "code",
   "execution_count": 34,
   "metadata": {},
   "outputs": [
    {
     "name": "stderr",
     "output_type": "stream",
     "text": [
      "/anaconda3/lib/python3.6/site-packages/sklearn/ensemble/forest.py:732: UserWarning: Some inputs do not have OOB scores. This probably means too few trees were used to compute any reliable oob estimates.\n",
      "  warn(\"Some inputs do not have OOB scores. \"\n",
      "/anaconda3/lib/python3.6/site-packages/sklearn/ensemble/forest.py:732: UserWarning: Some inputs do not have OOB scores. This probably means too few trees were used to compute any reliable oob estimates.\n",
      "  warn(\"Some inputs do not have OOB scores. \"\n",
      "/anaconda3/lib/python3.6/site-packages/sklearn/ensemble/forest.py:732: UserWarning: Some inputs do not have OOB scores. This probably means too few trees were used to compute any reliable oob estimates.\n",
      "  warn(\"Some inputs do not have OOB scores. \"\n",
      "/anaconda3/lib/python3.6/site-packages/sklearn/ensemble/forest.py:732: UserWarning: Some inputs do not have OOB scores. This probably means too few trees were used to compute any reliable oob estimates.\n",
      "  warn(\"Some inputs do not have OOB scores. \"\n",
      "/anaconda3/lib/python3.6/site-packages/sklearn/ensemble/forest.py:732: UserWarning: Some inputs do not have OOB scores. This probably means too few trees were used to compute any reliable oob estimates.\n",
      "  warn(\"Some inputs do not have OOB scores. \"\n",
      "/anaconda3/lib/python3.6/site-packages/sklearn/ensemble/forest.py:732: UserWarning: Some inputs do not have OOB scores. This probably means too few trees were used to compute any reliable oob estimates.\n",
      "  warn(\"Some inputs do not have OOB scores. \"\n",
      "/anaconda3/lib/python3.6/site-packages/sklearn/ensemble/forest.py:732: UserWarning: Some inputs do not have OOB scores. This probably means too few trees were used to compute any reliable oob estimates.\n",
      "  warn(\"Some inputs do not have OOB scores. \"\n",
      "/anaconda3/lib/python3.6/site-packages/sklearn/ensemble/forest.py:732: UserWarning: Some inputs do not have OOB scores. This probably means too few trees were used to compute any reliable oob estimates.\n",
      "  warn(\"Some inputs do not have OOB scores. \"\n",
      "/anaconda3/lib/python3.6/site-packages/sklearn/ensemble/forest.py:732: UserWarning: Some inputs do not have OOB scores. This probably means too few trees were used to compute any reliable oob estimates.\n",
      "  warn(\"Some inputs do not have OOB scores. \"\n",
      "/anaconda3/lib/python3.6/site-packages/sklearn/ensemble/forest.py:732: UserWarning: Some inputs do not have OOB scores. This probably means too few trees were used to compute any reliable oob estimates.\n",
      "  warn(\"Some inputs do not have OOB scores. \"\n",
      "/anaconda3/lib/python3.6/site-packages/sklearn/ensemble/forest.py:732: UserWarning: Some inputs do not have OOB scores. This probably means too few trees were used to compute any reliable oob estimates.\n",
      "  warn(\"Some inputs do not have OOB scores. \"\n",
      "/anaconda3/lib/python3.6/site-packages/sklearn/ensemble/forest.py:732: UserWarning: Some inputs do not have OOB scores. This probably means too few trees were used to compute any reliable oob estimates.\n",
      "  warn(\"Some inputs do not have OOB scores. \"\n",
      "/anaconda3/lib/python3.6/site-packages/sklearn/ensemble/forest.py:732: UserWarning: Some inputs do not have OOB scores. This probably means too few trees were used to compute any reliable oob estimates.\n",
      "  warn(\"Some inputs do not have OOB scores. \"\n",
      "/anaconda3/lib/python3.6/site-packages/sklearn/ensemble/forest.py:732: UserWarning: Some inputs do not have OOB scores. This probably means too few trees were used to compute any reliable oob estimates.\n",
      "  warn(\"Some inputs do not have OOB scores. \"\n",
      "/anaconda3/lib/python3.6/site-packages/sklearn/ensemble/forest.py:732: UserWarning: Some inputs do not have OOB scores. This probably means too few trees were used to compute any reliable oob estimates.\n",
      "  warn(\"Some inputs do not have OOB scores. \"\n",
      "/anaconda3/lib/python3.6/site-packages/sklearn/ensemble/forest.py:732: UserWarning: Some inputs do not have OOB scores. This probably means too few trees were used to compute any reliable oob estimates.\n",
      "  warn(\"Some inputs do not have OOB scores. \"\n",
      "/anaconda3/lib/python3.6/site-packages/sklearn/ensemble/forest.py:732: UserWarning: Some inputs do not have OOB scores. This probably means too few trees were used to compute any reliable oob estimates.\n",
      "  warn(\"Some inputs do not have OOB scores. \"\n",
      "/anaconda3/lib/python3.6/site-packages/sklearn/ensemble/forest.py:732: UserWarning: Some inputs do not have OOB scores. This probably means too few trees were used to compute any reliable oob estimates.\n",
      "  warn(\"Some inputs do not have OOB scores. \"\n",
      "/anaconda3/lib/python3.6/site-packages/sklearn/ensemble/forest.py:732: UserWarning: Some inputs do not have OOB scores. This probably means too few trees were used to compute any reliable oob estimates.\n",
      "  warn(\"Some inputs do not have OOB scores. \"\n",
      "/anaconda3/lib/python3.6/site-packages/sklearn/ensemble/forest.py:732: UserWarning: Some inputs do not have OOB scores. This probably means too few trees were used to compute any reliable oob estimates.\n",
      "  warn(\"Some inputs do not have OOB scores. \"\n",
      "/anaconda3/lib/python3.6/site-packages/sklearn/ensemble/forest.py:732: UserWarning: Some inputs do not have OOB scores. This probably means too few trees were used to compute any reliable oob estimates.\n",
      "  warn(\"Some inputs do not have OOB scores. \"\n",
      "/anaconda3/lib/python3.6/site-packages/sklearn/ensemble/forest.py:732: UserWarning: Some inputs do not have OOB scores. This probably means too few trees were used to compute any reliable oob estimates.\n",
      "  warn(\"Some inputs do not have OOB scores. \"\n",
      "/anaconda3/lib/python3.6/site-packages/sklearn/ensemble/forest.py:732: UserWarning: Some inputs do not have OOB scores. This probably means too few trees were used to compute any reliable oob estimates.\n",
      "  warn(\"Some inputs do not have OOB scores. \"\n",
      "/anaconda3/lib/python3.6/site-packages/sklearn/ensemble/forest.py:732: UserWarning: Some inputs do not have OOB scores. This probably means too few trees were used to compute any reliable oob estimates.\n",
      "  warn(\"Some inputs do not have OOB scores. \"\n",
      "/anaconda3/lib/python3.6/site-packages/sklearn/ensemble/forest.py:732: UserWarning: Some inputs do not have OOB scores. This probably means too few trees were used to compute any reliable oob estimates.\n",
      "  warn(\"Some inputs do not have OOB scores. \"\n",
      "/anaconda3/lib/python3.6/site-packages/sklearn/ensemble/forest.py:732: UserWarning: Some inputs do not have OOB scores. This probably means too few trees were used to compute any reliable oob estimates.\n",
      "  warn(\"Some inputs do not have OOB scores. \"\n",
      "/anaconda3/lib/python3.6/site-packages/sklearn/ensemble/forest.py:732: UserWarning: Some inputs do not have OOB scores. This probably means too few trees were used to compute any reliable oob estimates.\n",
      "  warn(\"Some inputs do not have OOB scores. \"\n",
      "/anaconda3/lib/python3.6/site-packages/sklearn/ensemble/forest.py:732: UserWarning: Some inputs do not have OOB scores. This probably means too few trees were used to compute any reliable oob estimates.\n",
      "  warn(\"Some inputs do not have OOB scores. \"\n",
      "/anaconda3/lib/python3.6/site-packages/sklearn/ensemble/forest.py:732: UserWarning: Some inputs do not have OOB scores. This probably means too few trees were used to compute any reliable oob estimates.\n",
      "  warn(\"Some inputs do not have OOB scores. \"\n",
      "/anaconda3/lib/python3.6/site-packages/sklearn/ensemble/forest.py:732: UserWarning: Some inputs do not have OOB scores. This probably means too few trees were used to compute any reliable oob estimates.\n",
      "  warn(\"Some inputs do not have OOB scores. \"\n",
      "/anaconda3/lib/python3.6/site-packages/sklearn/ensemble/forest.py:732: UserWarning: Some inputs do not have OOB scores. This probably means too few trees were used to compute any reliable oob estimates.\n",
      "  warn(\"Some inputs do not have OOB scores. \"\n",
      "/anaconda3/lib/python3.6/site-packages/sklearn/ensemble/forest.py:732: UserWarning: Some inputs do not have OOB scores. This probably means too few trees were used to compute any reliable oob estimates.\n",
      "  warn(\"Some inputs do not have OOB scores. \"\n",
      "/anaconda3/lib/python3.6/site-packages/sklearn/ensemble/forest.py:732: UserWarning: Some inputs do not have OOB scores. This probably means too few trees were used to compute any reliable oob estimates.\n",
      "  warn(\"Some inputs do not have OOB scores. \"\n",
      "/anaconda3/lib/python3.6/site-packages/sklearn/ensemble/forest.py:732: UserWarning: Some inputs do not have OOB scores. This probably means too few trees were used to compute any reliable oob estimates.\n",
      "  warn(\"Some inputs do not have OOB scores. \"\n",
      "/anaconda3/lib/python3.6/site-packages/sklearn/ensemble/forest.py:732: UserWarning: Some inputs do not have OOB scores. This probably means too few trees were used to compute any reliable oob estimates.\n",
      "  warn(\"Some inputs do not have OOB scores. \"\n",
      "/anaconda3/lib/python3.6/site-packages/sklearn/ensemble/forest.py:732: UserWarning: Some inputs do not have OOB scores. This probably means too few trees were used to compute any reliable oob estimates.\n",
      "  warn(\"Some inputs do not have OOB scores. \"\n"
     ]
    },
    {
     "name": "stderr",
     "output_type": "stream",
     "text": [
      "/anaconda3/lib/python3.6/site-packages/sklearn/ensemble/forest.py:732: UserWarning: Some inputs do not have OOB scores. This probably means too few trees were used to compute any reliable oob estimates.\n",
      "  warn(\"Some inputs do not have OOB scores. \"\n",
      "/anaconda3/lib/python3.6/site-packages/sklearn/ensemble/forest.py:732: UserWarning: Some inputs do not have OOB scores. This probably means too few trees were used to compute any reliable oob estimates.\n",
      "  warn(\"Some inputs do not have OOB scores. \"\n",
      "/anaconda3/lib/python3.6/site-packages/sklearn/ensemble/forest.py:732: UserWarning: Some inputs do not have OOB scores. This probably means too few trees were used to compute any reliable oob estimates.\n",
      "  warn(\"Some inputs do not have OOB scores. \"\n",
      "/anaconda3/lib/python3.6/site-packages/sklearn/ensemble/forest.py:732: UserWarning: Some inputs do not have OOB scores. This probably means too few trees were used to compute any reliable oob estimates.\n",
      "  warn(\"Some inputs do not have OOB scores. \"\n",
      "/anaconda3/lib/python3.6/site-packages/sklearn/ensemble/forest.py:732: UserWarning: Some inputs do not have OOB scores. This probably means too few trees were used to compute any reliable oob estimates.\n",
      "  warn(\"Some inputs do not have OOB scores. \"\n",
      "/anaconda3/lib/python3.6/site-packages/sklearn/ensemble/forest.py:732: UserWarning: Some inputs do not have OOB scores. This probably means too few trees were used to compute any reliable oob estimates.\n",
      "  warn(\"Some inputs do not have OOB scores. \"\n",
      "/anaconda3/lib/python3.6/site-packages/sklearn/ensemble/forest.py:732: UserWarning: Some inputs do not have OOB scores. This probably means too few trees were used to compute any reliable oob estimates.\n",
      "  warn(\"Some inputs do not have OOB scores. \"\n",
      "/anaconda3/lib/python3.6/site-packages/sklearn/ensemble/forest.py:732: UserWarning: Some inputs do not have OOB scores. This probably means too few trees were used to compute any reliable oob estimates.\n",
      "  warn(\"Some inputs do not have OOB scores. \"\n",
      "/anaconda3/lib/python3.6/site-packages/sklearn/ensemble/forest.py:732: UserWarning: Some inputs do not have OOB scores. This probably means too few trees were used to compute any reliable oob estimates.\n",
      "  warn(\"Some inputs do not have OOB scores. \"\n",
      "/anaconda3/lib/python3.6/site-packages/sklearn/ensemble/forest.py:732: UserWarning: Some inputs do not have OOB scores. This probably means too few trees were used to compute any reliable oob estimates.\n",
      "  warn(\"Some inputs do not have OOB scores. \"\n",
      "/anaconda3/lib/python3.6/site-packages/sklearn/ensemble/forest.py:732: UserWarning: Some inputs do not have OOB scores. This probably means too few trees were used to compute any reliable oob estimates.\n",
      "  warn(\"Some inputs do not have OOB scores. \"\n",
      "/anaconda3/lib/python3.6/site-packages/sklearn/ensemble/forest.py:732: UserWarning: Some inputs do not have OOB scores. This probably means too few trees were used to compute any reliable oob estimates.\n",
      "  warn(\"Some inputs do not have OOB scores. \"\n",
      "/anaconda3/lib/python3.6/site-packages/sklearn/ensemble/forest.py:732: UserWarning: Some inputs do not have OOB scores. This probably means too few trees were used to compute any reliable oob estimates.\n",
      "  warn(\"Some inputs do not have OOB scores. \"\n",
      "/anaconda3/lib/python3.6/site-packages/sklearn/ensemble/forest.py:732: UserWarning: Some inputs do not have OOB scores. This probably means too few trees were used to compute any reliable oob estimates.\n",
      "  warn(\"Some inputs do not have OOB scores. \"\n",
      "/anaconda3/lib/python3.6/site-packages/sklearn/ensemble/forest.py:732: UserWarning: Some inputs do not have OOB scores. This probably means too few trees were used to compute any reliable oob estimates.\n",
      "  warn(\"Some inputs do not have OOB scores. \"\n",
      "/anaconda3/lib/python3.6/site-packages/sklearn/ensemble/forest.py:732: UserWarning: Some inputs do not have OOB scores. This probably means too few trees were used to compute any reliable oob estimates.\n",
      "  warn(\"Some inputs do not have OOB scores. \"\n",
      "/anaconda3/lib/python3.6/site-packages/sklearn/ensemble/forest.py:732: UserWarning: Some inputs do not have OOB scores. This probably means too few trees were used to compute any reliable oob estimates.\n",
      "  warn(\"Some inputs do not have OOB scores. \"\n",
      "/anaconda3/lib/python3.6/site-packages/sklearn/ensemble/forest.py:732: UserWarning: Some inputs do not have OOB scores. This probably means too few trees were used to compute any reliable oob estimates.\n",
      "  warn(\"Some inputs do not have OOB scores. \"\n",
      "/anaconda3/lib/python3.6/site-packages/sklearn/ensemble/forest.py:732: UserWarning: Some inputs do not have OOB scores. This probably means too few trees were used to compute any reliable oob estimates.\n",
      "  warn(\"Some inputs do not have OOB scores. \"\n",
      "/anaconda3/lib/python3.6/site-packages/sklearn/ensemble/forest.py:732: UserWarning: Some inputs do not have OOB scores. This probably means too few trees were used to compute any reliable oob estimates.\n",
      "  warn(\"Some inputs do not have OOB scores. \"\n",
      "/anaconda3/lib/python3.6/site-packages/sklearn/ensemble/forest.py:732: UserWarning: Some inputs do not have OOB scores. This probably means too few trees were used to compute any reliable oob estimates.\n",
      "  warn(\"Some inputs do not have OOB scores. \"\n",
      "/anaconda3/lib/python3.6/site-packages/sklearn/ensemble/forest.py:732: UserWarning: Some inputs do not have OOB scores. This probably means too few trees were used to compute any reliable oob estimates.\n",
      "  warn(\"Some inputs do not have OOB scores. \"\n",
      "/anaconda3/lib/python3.6/site-packages/sklearn/ensemble/forest.py:732: UserWarning: Some inputs do not have OOB scores. This probably means too few trees were used to compute any reliable oob estimates.\n",
      "  warn(\"Some inputs do not have OOB scores. \"\n",
      "/anaconda3/lib/python3.6/site-packages/sklearn/ensemble/forest.py:732: UserWarning: Some inputs do not have OOB scores. This probably means too few trees were used to compute any reliable oob estimates.\n",
      "  warn(\"Some inputs do not have OOB scores. \"\n",
      "/anaconda3/lib/python3.6/site-packages/sklearn/ensemble/forest.py:732: UserWarning: Some inputs do not have OOB scores. This probably means too few trees were used to compute any reliable oob estimates.\n",
      "  warn(\"Some inputs do not have OOB scores. \"\n",
      "/anaconda3/lib/python3.6/site-packages/sklearn/ensemble/forest.py:732: UserWarning: Some inputs do not have OOB scores. This probably means too few trees were used to compute any reliable oob estimates.\n",
      "  warn(\"Some inputs do not have OOB scores. \"\n",
      "/anaconda3/lib/python3.6/site-packages/sklearn/ensemble/forest.py:732: UserWarning: Some inputs do not have OOB scores. This probably means too few trees were used to compute any reliable oob estimates.\n",
      "  warn(\"Some inputs do not have OOB scores. \"\n",
      "/anaconda3/lib/python3.6/site-packages/sklearn/ensemble/forest.py:732: UserWarning: Some inputs do not have OOB scores. This probably means too few trees were used to compute any reliable oob estimates.\n",
      "  warn(\"Some inputs do not have OOB scores. \"\n",
      "/anaconda3/lib/python3.6/site-packages/sklearn/ensemble/forest.py:732: UserWarning: Some inputs do not have OOB scores. This probably means too few trees were used to compute any reliable oob estimates.\n",
      "  warn(\"Some inputs do not have OOB scores. \"\n",
      "/anaconda3/lib/python3.6/site-packages/sklearn/ensemble/forest.py:732: UserWarning: Some inputs do not have OOB scores. This probably means too few trees were used to compute any reliable oob estimates.\n",
      "  warn(\"Some inputs do not have OOB scores. \"\n",
      "/anaconda3/lib/python3.6/site-packages/sklearn/ensemble/forest.py:732: UserWarning: Some inputs do not have OOB scores. This probably means too few trees were used to compute any reliable oob estimates.\n",
      "  warn(\"Some inputs do not have OOB scores. \"\n",
      "/anaconda3/lib/python3.6/site-packages/sklearn/ensemble/forest.py:732: UserWarning: Some inputs do not have OOB scores. This probably means too few trees were used to compute any reliable oob estimates.\n",
      "  warn(\"Some inputs do not have OOB scores. \"\n",
      "/anaconda3/lib/python3.6/site-packages/sklearn/ensemble/forest.py:732: UserWarning: Some inputs do not have OOB scores. This probably means too few trees were used to compute any reliable oob estimates.\n",
      "  warn(\"Some inputs do not have OOB scores. \"\n"
     ]
    },
    {
     "name": "stderr",
     "output_type": "stream",
     "text": [
      "/anaconda3/lib/python3.6/site-packages/sklearn/ensemble/forest.py:732: UserWarning: Some inputs do not have OOB scores. This probably means too few trees were used to compute any reliable oob estimates.\n",
      "  warn(\"Some inputs do not have OOB scores. \"\n",
      "/anaconda3/lib/python3.6/site-packages/sklearn/ensemble/forest.py:732: UserWarning: Some inputs do not have OOB scores. This probably means too few trees were used to compute any reliable oob estimates.\n",
      "  warn(\"Some inputs do not have OOB scores. \"\n",
      "/anaconda3/lib/python3.6/site-packages/sklearn/ensemble/forest.py:732: UserWarning: Some inputs do not have OOB scores. This probably means too few trees were used to compute any reliable oob estimates.\n",
      "  warn(\"Some inputs do not have OOB scores. \"\n",
      "/anaconda3/lib/python3.6/site-packages/sklearn/ensemble/forest.py:732: UserWarning: Some inputs do not have OOB scores. This probably means too few trees were used to compute any reliable oob estimates.\n",
      "  warn(\"Some inputs do not have OOB scores. \"\n",
      "/anaconda3/lib/python3.6/site-packages/sklearn/ensemble/forest.py:732: UserWarning: Some inputs do not have OOB scores. This probably means too few trees were used to compute any reliable oob estimates.\n",
      "  warn(\"Some inputs do not have OOB scores. \"\n",
      "/anaconda3/lib/python3.6/site-packages/sklearn/ensemble/forest.py:732: UserWarning: Some inputs do not have OOB scores. This probably means too few trees were used to compute any reliable oob estimates.\n",
      "  warn(\"Some inputs do not have OOB scores. \"\n",
      "/anaconda3/lib/python3.6/site-packages/sklearn/ensemble/forest.py:732: UserWarning: Some inputs do not have OOB scores. This probably means too few trees were used to compute any reliable oob estimates.\n",
      "  warn(\"Some inputs do not have OOB scores. \"\n",
      "/anaconda3/lib/python3.6/site-packages/sklearn/ensemble/forest.py:732: UserWarning: Some inputs do not have OOB scores. This probably means too few trees were used to compute any reliable oob estimates.\n",
      "  warn(\"Some inputs do not have OOB scores. \"\n",
      "/anaconda3/lib/python3.6/site-packages/sklearn/ensemble/forest.py:732: UserWarning: Some inputs do not have OOB scores. This probably means too few trees were used to compute any reliable oob estimates.\n",
      "  warn(\"Some inputs do not have OOB scores. \"\n",
      "/anaconda3/lib/python3.6/site-packages/sklearn/ensemble/forest.py:732: UserWarning: Some inputs do not have OOB scores. This probably means too few trees were used to compute any reliable oob estimates.\n",
      "  warn(\"Some inputs do not have OOB scores. \"\n",
      "/anaconda3/lib/python3.6/site-packages/sklearn/ensemble/forest.py:732: UserWarning: Some inputs do not have OOB scores. This probably means too few trees were used to compute any reliable oob estimates.\n",
      "  warn(\"Some inputs do not have OOB scores. \"\n",
      "/anaconda3/lib/python3.6/site-packages/sklearn/ensemble/forest.py:732: UserWarning: Some inputs do not have OOB scores. This probably means too few trees were used to compute any reliable oob estimates.\n",
      "  warn(\"Some inputs do not have OOB scores. \"\n",
      "/anaconda3/lib/python3.6/site-packages/sklearn/ensemble/forest.py:732: UserWarning: Some inputs do not have OOB scores. This probably means too few trees were used to compute any reliable oob estimates.\n",
      "  warn(\"Some inputs do not have OOB scores. \"\n",
      "/anaconda3/lib/python3.6/site-packages/sklearn/ensemble/forest.py:732: UserWarning: Some inputs do not have OOB scores. This probably means too few trees were used to compute any reliable oob estimates.\n",
      "  warn(\"Some inputs do not have OOB scores. \"\n",
      "/anaconda3/lib/python3.6/site-packages/sklearn/ensemble/forest.py:732: UserWarning: Some inputs do not have OOB scores. This probably means too few trees were used to compute any reliable oob estimates.\n",
      "  warn(\"Some inputs do not have OOB scores. \"\n",
      "/anaconda3/lib/python3.6/site-packages/sklearn/ensemble/forest.py:732: UserWarning: Some inputs do not have OOB scores. This probably means too few trees were used to compute any reliable oob estimates.\n",
      "  warn(\"Some inputs do not have OOB scores. \"\n",
      "/anaconda3/lib/python3.6/site-packages/sklearn/ensemble/forest.py:732: UserWarning: Some inputs do not have OOB scores. This probably means too few trees were used to compute any reliable oob estimates.\n",
      "  warn(\"Some inputs do not have OOB scores. \"\n",
      "/anaconda3/lib/python3.6/site-packages/sklearn/ensemble/forest.py:732: UserWarning: Some inputs do not have OOB scores. This probably means too few trees were used to compute any reliable oob estimates.\n",
      "  warn(\"Some inputs do not have OOB scores. \"\n",
      "/anaconda3/lib/python3.6/site-packages/sklearn/ensemble/forest.py:732: UserWarning: Some inputs do not have OOB scores. This probably means too few trees were used to compute any reliable oob estimates.\n",
      "  warn(\"Some inputs do not have OOB scores. \"\n",
      "/anaconda3/lib/python3.6/site-packages/sklearn/ensemble/forest.py:732: UserWarning: Some inputs do not have OOB scores. This probably means too few trees were used to compute any reliable oob estimates.\n",
      "  warn(\"Some inputs do not have OOB scores. \"\n",
      "/anaconda3/lib/python3.6/site-packages/sklearn/ensemble/forest.py:732: UserWarning: Some inputs do not have OOB scores. This probably means too few trees were used to compute any reliable oob estimates.\n",
      "  warn(\"Some inputs do not have OOB scores. \"\n",
      "/anaconda3/lib/python3.6/site-packages/sklearn/ensemble/forest.py:732: UserWarning: Some inputs do not have OOB scores. This probably means too few trees were used to compute any reliable oob estimates.\n",
      "  warn(\"Some inputs do not have OOB scores. \"\n",
      "/anaconda3/lib/python3.6/site-packages/sklearn/ensemble/forest.py:732: UserWarning: Some inputs do not have OOB scores. This probably means too few trees were used to compute any reliable oob estimates.\n",
      "  warn(\"Some inputs do not have OOB scores. \"\n",
      "/anaconda3/lib/python3.6/site-packages/sklearn/ensemble/forest.py:732: UserWarning: Some inputs do not have OOB scores. This probably means too few trees were used to compute any reliable oob estimates.\n",
      "  warn(\"Some inputs do not have OOB scores. \"\n",
      "/anaconda3/lib/python3.6/site-packages/sklearn/ensemble/forest.py:732: UserWarning: Some inputs do not have OOB scores. This probably means too few trees were used to compute any reliable oob estimates.\n",
      "  warn(\"Some inputs do not have OOB scores. \"\n",
      "/anaconda3/lib/python3.6/site-packages/sklearn/ensemble/forest.py:732: UserWarning: Some inputs do not have OOB scores. This probably means too few trees were used to compute any reliable oob estimates.\n",
      "  warn(\"Some inputs do not have OOB scores. \"\n",
      "/anaconda3/lib/python3.6/site-packages/sklearn/ensemble/forest.py:732: UserWarning: Some inputs do not have OOB scores. This probably means too few trees were used to compute any reliable oob estimates.\n",
      "  warn(\"Some inputs do not have OOB scores. \"\n",
      "/anaconda3/lib/python3.6/site-packages/sklearn/ensemble/forest.py:732: UserWarning: Some inputs do not have OOB scores. This probably means too few trees were used to compute any reliable oob estimates.\n",
      "  warn(\"Some inputs do not have OOB scores. \"\n",
      "/anaconda3/lib/python3.6/site-packages/sklearn/ensemble/forest.py:732: UserWarning: Some inputs do not have OOB scores. This probably means too few trees were used to compute any reliable oob estimates.\n",
      "  warn(\"Some inputs do not have OOB scores. \"\n",
      "/anaconda3/lib/python3.6/site-packages/sklearn/ensemble/forest.py:732: UserWarning: Some inputs do not have OOB scores. This probably means too few trees were used to compute any reliable oob estimates.\n",
      "  warn(\"Some inputs do not have OOB scores. \"\n",
      "/anaconda3/lib/python3.6/site-packages/sklearn/ensemble/forest.py:732: UserWarning: Some inputs do not have OOB scores. This probably means too few trees were used to compute any reliable oob estimates.\n",
      "  warn(\"Some inputs do not have OOB scores. \"\n",
      "/anaconda3/lib/python3.6/site-packages/sklearn/ensemble/forest.py:732: UserWarning: Some inputs do not have OOB scores. This probably means too few trees were used to compute any reliable oob estimates.\n",
      "  warn(\"Some inputs do not have OOB scores. \"\n",
      "/anaconda3/lib/python3.6/site-packages/sklearn/ensemble/forest.py:732: UserWarning: Some inputs do not have OOB scores. This probably means too few trees were used to compute any reliable oob estimates.\n",
      "  warn(\"Some inputs do not have OOB scores. \"\n",
      "/anaconda3/lib/python3.6/site-packages/sklearn/ensemble/forest.py:732: UserWarning: Some inputs do not have OOB scores. This probably means too few trees were used to compute any reliable oob estimates.\n",
      "  warn(\"Some inputs do not have OOB scores. \"\n",
      "/anaconda3/lib/python3.6/site-packages/sklearn/ensemble/forest.py:732: UserWarning: Some inputs do not have OOB scores. This probably means too few trees were used to compute any reliable oob estimates.\n",
      "  warn(\"Some inputs do not have OOB scores. \"\n",
      "/anaconda3/lib/python3.6/site-packages/sklearn/ensemble/forest.py:732: UserWarning: Some inputs do not have OOB scores. This probably means too few trees were used to compute any reliable oob estimates.\n",
      "  warn(\"Some inputs do not have OOB scores. \"\n"
     ]
    },
    {
     "name": "stderr",
     "output_type": "stream",
     "text": [
      "/anaconda3/lib/python3.6/site-packages/sklearn/ensemble/forest.py:732: UserWarning: Some inputs do not have OOB scores. This probably means too few trees were used to compute any reliable oob estimates.\n",
      "  warn(\"Some inputs do not have OOB scores. \"\n",
      "/anaconda3/lib/python3.6/site-packages/sklearn/ensemble/forest.py:732: UserWarning: Some inputs do not have OOB scores. This probably means too few trees were used to compute any reliable oob estimates.\n",
      "  warn(\"Some inputs do not have OOB scores. \"\n",
      "/anaconda3/lib/python3.6/site-packages/sklearn/ensemble/forest.py:732: UserWarning: Some inputs do not have OOB scores. This probably means too few trees were used to compute any reliable oob estimates.\n",
      "  warn(\"Some inputs do not have OOB scores. \"\n",
      "/anaconda3/lib/python3.6/site-packages/sklearn/ensemble/forest.py:732: UserWarning: Some inputs do not have OOB scores. This probably means too few trees were used to compute any reliable oob estimates.\n",
      "  warn(\"Some inputs do not have OOB scores. \"\n",
      "/anaconda3/lib/python3.6/site-packages/sklearn/ensemble/forest.py:732: UserWarning: Some inputs do not have OOB scores. This probably means too few trees were used to compute any reliable oob estimates.\n",
      "  warn(\"Some inputs do not have OOB scores. \"\n",
      "/anaconda3/lib/python3.6/site-packages/sklearn/ensemble/forest.py:732: UserWarning: Some inputs do not have OOB scores. This probably means too few trees were used to compute any reliable oob estimates.\n",
      "  warn(\"Some inputs do not have OOB scores. \"\n",
      "/anaconda3/lib/python3.6/site-packages/sklearn/ensemble/forest.py:732: UserWarning: Some inputs do not have OOB scores. This probably means too few trees were used to compute any reliable oob estimates.\n",
      "  warn(\"Some inputs do not have OOB scores. \"\n",
      "/anaconda3/lib/python3.6/site-packages/sklearn/ensemble/forest.py:732: UserWarning: Some inputs do not have OOB scores. This probably means too few trees were used to compute any reliable oob estimates.\n",
      "  warn(\"Some inputs do not have OOB scores. \"\n",
      "/anaconda3/lib/python3.6/site-packages/sklearn/ensemble/forest.py:732: UserWarning: Some inputs do not have OOB scores. This probably means too few trees were used to compute any reliable oob estimates.\n",
      "  warn(\"Some inputs do not have OOB scores. \"\n",
      "/anaconda3/lib/python3.6/site-packages/sklearn/ensemble/forest.py:732: UserWarning: Some inputs do not have OOB scores. This probably means too few trees were used to compute any reliable oob estimates.\n",
      "  warn(\"Some inputs do not have OOB scores. \"\n",
      "/anaconda3/lib/python3.6/site-packages/sklearn/ensemble/forest.py:732: UserWarning: Some inputs do not have OOB scores. This probably means too few trees were used to compute any reliable oob estimates.\n",
      "  warn(\"Some inputs do not have OOB scores. \"\n",
      "/anaconda3/lib/python3.6/site-packages/sklearn/ensemble/forest.py:732: UserWarning: Some inputs do not have OOB scores. This probably means too few trees were used to compute any reliable oob estimates.\n",
      "  warn(\"Some inputs do not have OOB scores. \"\n",
      "/anaconda3/lib/python3.6/site-packages/sklearn/ensemble/forest.py:732: UserWarning: Some inputs do not have OOB scores. This probably means too few trees were used to compute any reliable oob estimates.\n",
      "  warn(\"Some inputs do not have OOB scores. \"\n",
      "/anaconda3/lib/python3.6/site-packages/sklearn/ensemble/forest.py:732: UserWarning: Some inputs do not have OOB scores. This probably means too few trees were used to compute any reliable oob estimates.\n",
      "  warn(\"Some inputs do not have OOB scores. \"\n",
      "/anaconda3/lib/python3.6/site-packages/sklearn/ensemble/forest.py:732: UserWarning: Some inputs do not have OOB scores. This probably means too few trees were used to compute any reliable oob estimates.\n",
      "  warn(\"Some inputs do not have OOB scores. \"\n",
      "/anaconda3/lib/python3.6/site-packages/sklearn/ensemble/forest.py:732: UserWarning: Some inputs do not have OOB scores. This probably means too few trees were used to compute any reliable oob estimates.\n",
      "  warn(\"Some inputs do not have OOB scores. \"\n",
      "/anaconda3/lib/python3.6/site-packages/sklearn/ensemble/forest.py:732: UserWarning: Some inputs do not have OOB scores. This probably means too few trees were used to compute any reliable oob estimates.\n",
      "  warn(\"Some inputs do not have OOB scores. \"\n",
      "/anaconda3/lib/python3.6/site-packages/sklearn/ensemble/forest.py:732: UserWarning: Some inputs do not have OOB scores. This probably means too few trees were used to compute any reliable oob estimates.\n",
      "  warn(\"Some inputs do not have OOB scores. \"\n",
      "/anaconda3/lib/python3.6/site-packages/sklearn/ensemble/forest.py:732: UserWarning: Some inputs do not have OOB scores. This probably means too few trees were used to compute any reliable oob estimates.\n",
      "  warn(\"Some inputs do not have OOB scores. \"\n",
      "/anaconda3/lib/python3.6/site-packages/sklearn/ensemble/forest.py:732: UserWarning: Some inputs do not have OOB scores. This probably means too few trees were used to compute any reliable oob estimates.\n",
      "  warn(\"Some inputs do not have OOB scores. \"\n",
      "/anaconda3/lib/python3.6/site-packages/sklearn/ensemble/forest.py:732: UserWarning: Some inputs do not have OOB scores. This probably means too few trees were used to compute any reliable oob estimates.\n",
      "  warn(\"Some inputs do not have OOB scores. \"\n",
      "/anaconda3/lib/python3.6/site-packages/sklearn/ensemble/forest.py:732: UserWarning: Some inputs do not have OOB scores. This probably means too few trees were used to compute any reliable oob estimates.\n",
      "  warn(\"Some inputs do not have OOB scores. \"\n",
      "/anaconda3/lib/python3.6/site-packages/sklearn/ensemble/forest.py:732: UserWarning: Some inputs do not have OOB scores. This probably means too few trees were used to compute any reliable oob estimates.\n",
      "  warn(\"Some inputs do not have OOB scores. \"\n",
      "/anaconda3/lib/python3.6/site-packages/sklearn/ensemble/forest.py:732: UserWarning: Some inputs do not have OOB scores. This probably means too few trees were used to compute any reliable oob estimates.\n",
      "  warn(\"Some inputs do not have OOB scores. \"\n",
      "/anaconda3/lib/python3.6/site-packages/sklearn/ensemble/forest.py:732: UserWarning: Some inputs do not have OOB scores. This probably means too few trees were used to compute any reliable oob estimates.\n",
      "  warn(\"Some inputs do not have OOB scores. \"\n",
      "/anaconda3/lib/python3.6/site-packages/sklearn/ensemble/forest.py:732: UserWarning: Some inputs do not have OOB scores. This probably means too few trees were used to compute any reliable oob estimates.\n",
      "  warn(\"Some inputs do not have OOB scores. \"\n",
      "/anaconda3/lib/python3.6/site-packages/sklearn/ensemble/forest.py:732: UserWarning: Some inputs do not have OOB scores. This probably means too few trees were used to compute any reliable oob estimates.\n",
      "  warn(\"Some inputs do not have OOB scores. \"\n",
      "/anaconda3/lib/python3.6/site-packages/sklearn/ensemble/forest.py:732: UserWarning: Some inputs do not have OOB scores. This probably means too few trees were used to compute any reliable oob estimates.\n",
      "  warn(\"Some inputs do not have OOB scores. \"\n",
      "/anaconda3/lib/python3.6/site-packages/sklearn/ensemble/forest.py:732: UserWarning: Some inputs do not have OOB scores. This probably means too few trees were used to compute any reliable oob estimates.\n",
      "  warn(\"Some inputs do not have OOB scores. \"\n",
      "/anaconda3/lib/python3.6/site-packages/sklearn/ensemble/forest.py:732: UserWarning: Some inputs do not have OOB scores. This probably means too few trees were used to compute any reliable oob estimates.\n",
      "  warn(\"Some inputs do not have OOB scores. \"\n",
      "/anaconda3/lib/python3.6/site-packages/sklearn/ensemble/forest.py:732: UserWarning: Some inputs do not have OOB scores. This probably means too few trees were used to compute any reliable oob estimates.\n",
      "  warn(\"Some inputs do not have OOB scores. \"\n",
      "/anaconda3/lib/python3.6/site-packages/sklearn/ensemble/forest.py:732: UserWarning: Some inputs do not have OOB scores. This probably means too few trees were used to compute any reliable oob estimates.\n",
      "  warn(\"Some inputs do not have OOB scores. \"\n",
      "/anaconda3/lib/python3.6/site-packages/sklearn/ensemble/forest.py:732: UserWarning: Some inputs do not have OOB scores. This probably means too few trees were used to compute any reliable oob estimates.\n",
      "  warn(\"Some inputs do not have OOB scores. \"\n",
      "/anaconda3/lib/python3.6/site-packages/sklearn/ensemble/forest.py:732: UserWarning: Some inputs do not have OOB scores. This probably means too few trees were used to compute any reliable oob estimates.\n",
      "  warn(\"Some inputs do not have OOB scores. \"\n"
     ]
    },
    {
     "name": "stderr",
     "output_type": "stream",
     "text": [
      "/anaconda3/lib/python3.6/site-packages/sklearn/ensemble/forest.py:732: UserWarning: Some inputs do not have OOB scores. This probably means too few trees were used to compute any reliable oob estimates.\n",
      "  warn(\"Some inputs do not have OOB scores. \"\n",
      "/anaconda3/lib/python3.6/site-packages/sklearn/ensemble/forest.py:732: UserWarning: Some inputs do not have OOB scores. This probably means too few trees were used to compute any reliable oob estimates.\n",
      "  warn(\"Some inputs do not have OOB scores. \"\n",
      "/anaconda3/lib/python3.6/site-packages/sklearn/ensemble/forest.py:732: UserWarning: Some inputs do not have OOB scores. This probably means too few trees were used to compute any reliable oob estimates.\n",
      "  warn(\"Some inputs do not have OOB scores. \"\n",
      "/anaconda3/lib/python3.6/site-packages/sklearn/ensemble/forest.py:732: UserWarning: Some inputs do not have OOB scores. This probably means too few trees were used to compute any reliable oob estimates.\n",
      "  warn(\"Some inputs do not have OOB scores. \"\n",
      "/anaconda3/lib/python3.6/site-packages/sklearn/ensemble/forest.py:732: UserWarning: Some inputs do not have OOB scores. This probably means too few trees were used to compute any reliable oob estimates.\n",
      "  warn(\"Some inputs do not have OOB scores. \"\n",
      "/anaconda3/lib/python3.6/site-packages/sklearn/ensemble/forest.py:732: UserWarning: Some inputs do not have OOB scores. This probably means too few trees were used to compute any reliable oob estimates.\n",
      "  warn(\"Some inputs do not have OOB scores. \"\n",
      "/anaconda3/lib/python3.6/site-packages/sklearn/ensemble/forest.py:732: UserWarning: Some inputs do not have OOB scores. This probably means too few trees were used to compute any reliable oob estimates.\n",
      "  warn(\"Some inputs do not have OOB scores. \"\n",
      "/anaconda3/lib/python3.6/site-packages/sklearn/ensemble/forest.py:732: UserWarning: Some inputs do not have OOB scores. This probably means too few trees were used to compute any reliable oob estimates.\n",
      "  warn(\"Some inputs do not have OOB scores. \"\n",
      "/anaconda3/lib/python3.6/site-packages/sklearn/ensemble/forest.py:732: UserWarning: Some inputs do not have OOB scores. This probably means too few trees were used to compute any reliable oob estimates.\n",
      "  warn(\"Some inputs do not have OOB scores. \"\n",
      "/anaconda3/lib/python3.6/site-packages/sklearn/ensemble/forest.py:732: UserWarning: Some inputs do not have OOB scores. This probably means too few trees were used to compute any reliable oob estimates.\n",
      "  warn(\"Some inputs do not have OOB scores. \"\n",
      "/anaconda3/lib/python3.6/site-packages/sklearn/ensemble/forest.py:732: UserWarning: Some inputs do not have OOB scores. This probably means too few trees were used to compute any reliable oob estimates.\n",
      "  warn(\"Some inputs do not have OOB scores. \"\n",
      "/anaconda3/lib/python3.6/site-packages/sklearn/ensemble/forest.py:732: UserWarning: Some inputs do not have OOB scores. This probably means too few trees were used to compute any reliable oob estimates.\n",
      "  warn(\"Some inputs do not have OOB scores. \"\n",
      "/anaconda3/lib/python3.6/site-packages/sklearn/ensemble/forest.py:732: UserWarning: Some inputs do not have OOB scores. This probably means too few trees were used to compute any reliable oob estimates.\n",
      "  warn(\"Some inputs do not have OOB scores. \"\n",
      "/anaconda3/lib/python3.6/site-packages/sklearn/ensemble/forest.py:732: UserWarning: Some inputs do not have OOB scores. This probably means too few trees were used to compute any reliable oob estimates.\n",
      "  warn(\"Some inputs do not have OOB scores. \"\n",
      "/anaconda3/lib/python3.6/site-packages/sklearn/ensemble/forest.py:732: UserWarning: Some inputs do not have OOB scores. This probably means too few trees were used to compute any reliable oob estimates.\n",
      "  warn(\"Some inputs do not have OOB scores. \"\n",
      "/anaconda3/lib/python3.6/site-packages/sklearn/ensemble/forest.py:732: UserWarning: Some inputs do not have OOB scores. This probably means too few trees were used to compute any reliable oob estimates.\n",
      "  warn(\"Some inputs do not have OOB scores. \"\n",
      "/anaconda3/lib/python3.6/site-packages/sklearn/ensemble/forest.py:732: UserWarning: Some inputs do not have OOB scores. This probably means too few trees were used to compute any reliable oob estimates.\n",
      "  warn(\"Some inputs do not have OOB scores. \"\n",
      "/anaconda3/lib/python3.6/site-packages/sklearn/ensemble/forest.py:732: UserWarning: Some inputs do not have OOB scores. This probably means too few trees were used to compute any reliable oob estimates.\n",
      "  warn(\"Some inputs do not have OOB scores. \"\n",
      "/anaconda3/lib/python3.6/site-packages/sklearn/ensemble/forest.py:732: UserWarning: Some inputs do not have OOB scores. This probably means too few trees were used to compute any reliable oob estimates.\n",
      "  warn(\"Some inputs do not have OOB scores. \"\n",
      "/anaconda3/lib/python3.6/site-packages/sklearn/ensemble/forest.py:732: UserWarning: Some inputs do not have OOB scores. This probably means too few trees were used to compute any reliable oob estimates.\n",
      "  warn(\"Some inputs do not have OOB scores. \"\n",
      "/anaconda3/lib/python3.6/site-packages/sklearn/ensemble/forest.py:732: UserWarning: Some inputs do not have OOB scores. This probably means too few trees were used to compute any reliable oob estimates.\n",
      "  warn(\"Some inputs do not have OOB scores. \"\n",
      "/anaconda3/lib/python3.6/site-packages/sklearn/ensemble/forest.py:732: UserWarning: Some inputs do not have OOB scores. This probably means too few trees were used to compute any reliable oob estimates.\n",
      "  warn(\"Some inputs do not have OOB scores. \"\n",
      "/anaconda3/lib/python3.6/site-packages/sklearn/ensemble/forest.py:732: UserWarning: Some inputs do not have OOB scores. This probably means too few trees were used to compute any reliable oob estimates.\n",
      "  warn(\"Some inputs do not have OOB scores. \"\n",
      "/anaconda3/lib/python3.6/site-packages/sklearn/ensemble/forest.py:732: UserWarning: Some inputs do not have OOB scores. This probably means too few trees were used to compute any reliable oob estimates.\n",
      "  warn(\"Some inputs do not have OOB scores. \"\n",
      "/anaconda3/lib/python3.6/site-packages/sklearn/ensemble/forest.py:732: UserWarning: Some inputs do not have OOB scores. This probably means too few trees were used to compute any reliable oob estimates.\n",
      "  warn(\"Some inputs do not have OOB scores. \"\n",
      "/anaconda3/lib/python3.6/site-packages/sklearn/ensemble/forest.py:732: UserWarning: Some inputs do not have OOB scores. This probably means too few trees were used to compute any reliable oob estimates.\n",
      "  warn(\"Some inputs do not have OOB scores. \"\n",
      "/anaconda3/lib/python3.6/site-packages/sklearn/ensemble/forest.py:732: UserWarning: Some inputs do not have OOB scores. This probably means too few trees were used to compute any reliable oob estimates.\n",
      "  warn(\"Some inputs do not have OOB scores. \"\n",
      "/anaconda3/lib/python3.6/site-packages/sklearn/ensemble/forest.py:732: UserWarning: Some inputs do not have OOB scores. This probably means too few trees were used to compute any reliable oob estimates.\n",
      "  warn(\"Some inputs do not have OOB scores. \"\n",
      "/anaconda3/lib/python3.6/site-packages/sklearn/ensemble/forest.py:732: UserWarning: Some inputs do not have OOB scores. This probably means too few trees were used to compute any reliable oob estimates.\n",
      "  warn(\"Some inputs do not have OOB scores. \"\n",
      "/anaconda3/lib/python3.6/site-packages/sklearn/ensemble/forest.py:732: UserWarning: Some inputs do not have OOB scores. This probably means too few trees were used to compute any reliable oob estimates.\n",
      "  warn(\"Some inputs do not have OOB scores. \"\n",
      "/anaconda3/lib/python3.6/site-packages/sklearn/ensemble/forest.py:732: UserWarning: Some inputs do not have OOB scores. This probably means too few trees were used to compute any reliable oob estimates.\n",
      "  warn(\"Some inputs do not have OOB scores. \"\n",
      "/anaconda3/lib/python3.6/site-packages/sklearn/ensemble/forest.py:732: UserWarning: Some inputs do not have OOB scores. This probably means too few trees were used to compute any reliable oob estimates.\n",
      "  warn(\"Some inputs do not have OOB scores. \"\n",
      "/anaconda3/lib/python3.6/site-packages/sklearn/ensemble/forest.py:732: UserWarning: Some inputs do not have OOB scores. This probably means too few trees were used to compute any reliable oob estimates.\n",
      "  warn(\"Some inputs do not have OOB scores. \"\n",
      "/anaconda3/lib/python3.6/site-packages/sklearn/ensemble/forest.py:732: UserWarning: Some inputs do not have OOB scores. This probably means too few trees were used to compute any reliable oob estimates.\n",
      "  warn(\"Some inputs do not have OOB scores. \"\n",
      "/anaconda3/lib/python3.6/site-packages/sklearn/ensemble/forest.py:732: UserWarning: Some inputs do not have OOB scores. This probably means too few trees were used to compute any reliable oob estimates.\n",
      "  warn(\"Some inputs do not have OOB scores. \"\n",
      "/anaconda3/lib/python3.6/site-packages/sklearn/ensemble/forest.py:732: UserWarning: Some inputs do not have OOB scores. This probably means too few trees were used to compute any reliable oob estimates.\n",
      "  warn(\"Some inputs do not have OOB scores. \"\n"
     ]
    },
    {
     "name": "stderr",
     "output_type": "stream",
     "text": [
      "/anaconda3/lib/python3.6/site-packages/sklearn/ensemble/forest.py:732: UserWarning: Some inputs do not have OOB scores. This probably means too few trees were used to compute any reliable oob estimates.\n",
      "  warn(\"Some inputs do not have OOB scores. \"\n",
      "/anaconda3/lib/python3.6/site-packages/sklearn/ensemble/forest.py:732: UserWarning: Some inputs do not have OOB scores. This probably means too few trees were used to compute any reliable oob estimates.\n",
      "  warn(\"Some inputs do not have OOB scores. \"\n",
      "/anaconda3/lib/python3.6/site-packages/sklearn/ensemble/forest.py:732: UserWarning: Some inputs do not have OOB scores. This probably means too few trees were used to compute any reliable oob estimates.\n",
      "  warn(\"Some inputs do not have OOB scores. \"\n",
      "/anaconda3/lib/python3.6/site-packages/sklearn/ensemble/forest.py:732: UserWarning: Some inputs do not have OOB scores. This probably means too few trees were used to compute any reliable oob estimates.\n",
      "  warn(\"Some inputs do not have OOB scores. \"\n",
      "/anaconda3/lib/python3.6/site-packages/sklearn/ensemble/forest.py:732: UserWarning: Some inputs do not have OOB scores. This probably means too few trees were used to compute any reliable oob estimates.\n",
      "  warn(\"Some inputs do not have OOB scores. \"\n",
      "/anaconda3/lib/python3.6/site-packages/sklearn/ensemble/forest.py:732: UserWarning: Some inputs do not have OOB scores. This probably means too few trees were used to compute any reliable oob estimates.\n",
      "  warn(\"Some inputs do not have OOB scores. \"\n",
      "/anaconda3/lib/python3.6/site-packages/sklearn/ensemble/forest.py:732: UserWarning: Some inputs do not have OOB scores. This probably means too few trees were used to compute any reliable oob estimates.\n",
      "  warn(\"Some inputs do not have OOB scores. \"\n",
      "/anaconda3/lib/python3.6/site-packages/sklearn/ensemble/forest.py:732: UserWarning: Some inputs do not have OOB scores. This probably means too few trees were used to compute any reliable oob estimates.\n",
      "  warn(\"Some inputs do not have OOB scores. \"\n",
      "/anaconda3/lib/python3.6/site-packages/sklearn/ensemble/forest.py:732: UserWarning: Some inputs do not have OOB scores. This probably means too few trees were used to compute any reliable oob estimates.\n",
      "  warn(\"Some inputs do not have OOB scores. \"\n",
      "/anaconda3/lib/python3.6/site-packages/sklearn/ensemble/forest.py:732: UserWarning: Some inputs do not have OOB scores. This probably means too few trees were used to compute any reliable oob estimates.\n",
      "  warn(\"Some inputs do not have OOB scores. \"\n",
      "/anaconda3/lib/python3.6/site-packages/sklearn/ensemble/forest.py:732: UserWarning: Some inputs do not have OOB scores. This probably means too few trees were used to compute any reliable oob estimates.\n",
      "  warn(\"Some inputs do not have OOB scores. \"\n",
      "/anaconda3/lib/python3.6/site-packages/sklearn/ensemble/forest.py:732: UserWarning: Some inputs do not have OOB scores. This probably means too few trees were used to compute any reliable oob estimates.\n",
      "  warn(\"Some inputs do not have OOB scores. \"\n",
      "/anaconda3/lib/python3.6/site-packages/sklearn/ensemble/forest.py:732: UserWarning: Some inputs do not have OOB scores. This probably means too few trees were used to compute any reliable oob estimates.\n",
      "  warn(\"Some inputs do not have OOB scores. \"\n",
      "/anaconda3/lib/python3.6/site-packages/sklearn/ensemble/forest.py:732: UserWarning: Some inputs do not have OOB scores. This probably means too few trees were used to compute any reliable oob estimates.\n",
      "  warn(\"Some inputs do not have OOB scores. \"\n",
      "/anaconda3/lib/python3.6/site-packages/sklearn/ensemble/forest.py:732: UserWarning: Some inputs do not have OOB scores. This probably means too few trees were used to compute any reliable oob estimates.\n",
      "  warn(\"Some inputs do not have OOB scores. \"\n",
      "/anaconda3/lib/python3.6/site-packages/sklearn/ensemble/forest.py:732: UserWarning: Some inputs do not have OOB scores. This probably means too few trees were used to compute any reliable oob estimates.\n",
      "  warn(\"Some inputs do not have OOB scores. \"\n",
      "/anaconda3/lib/python3.6/site-packages/sklearn/ensemble/forest.py:732: UserWarning: Some inputs do not have OOB scores. This probably means too few trees were used to compute any reliable oob estimates.\n",
      "  warn(\"Some inputs do not have OOB scores. \"\n",
      "/anaconda3/lib/python3.6/site-packages/sklearn/ensemble/forest.py:732: UserWarning: Some inputs do not have OOB scores. This probably means too few trees were used to compute any reliable oob estimates.\n",
      "  warn(\"Some inputs do not have OOB scores. \"\n",
      "/anaconda3/lib/python3.6/site-packages/sklearn/ensemble/forest.py:732: UserWarning: Some inputs do not have OOB scores. This probably means too few trees were used to compute any reliable oob estimates.\n",
      "  warn(\"Some inputs do not have OOB scores. \"\n",
      "/anaconda3/lib/python3.6/site-packages/sklearn/ensemble/forest.py:732: UserWarning: Some inputs do not have OOB scores. This probably means too few trees were used to compute any reliable oob estimates.\n",
      "  warn(\"Some inputs do not have OOB scores. \"\n",
      "/anaconda3/lib/python3.6/site-packages/sklearn/ensemble/forest.py:732: UserWarning: Some inputs do not have OOB scores. This probably means too few trees were used to compute any reliable oob estimates.\n",
      "  warn(\"Some inputs do not have OOB scores. \"\n",
      "/anaconda3/lib/python3.6/site-packages/sklearn/ensemble/forest.py:732: UserWarning: Some inputs do not have OOB scores. This probably means too few trees were used to compute any reliable oob estimates.\n",
      "  warn(\"Some inputs do not have OOB scores. \"\n",
      "/anaconda3/lib/python3.6/site-packages/sklearn/ensemble/forest.py:732: UserWarning: Some inputs do not have OOB scores. This probably means too few trees were used to compute any reliable oob estimates.\n",
      "  warn(\"Some inputs do not have OOB scores. \"\n",
      "/anaconda3/lib/python3.6/site-packages/sklearn/ensemble/forest.py:732: UserWarning: Some inputs do not have OOB scores. This probably means too few trees were used to compute any reliable oob estimates.\n",
      "  warn(\"Some inputs do not have OOB scores. \"\n",
      "/anaconda3/lib/python3.6/site-packages/sklearn/ensemble/forest.py:732: UserWarning: Some inputs do not have OOB scores. This probably means too few trees were used to compute any reliable oob estimates.\n",
      "  warn(\"Some inputs do not have OOB scores. \"\n",
      "/anaconda3/lib/python3.6/site-packages/sklearn/ensemble/forest.py:732: UserWarning: Some inputs do not have OOB scores. This probably means too few trees were used to compute any reliable oob estimates.\n",
      "  warn(\"Some inputs do not have OOB scores. \"\n",
      "/anaconda3/lib/python3.6/site-packages/sklearn/ensemble/forest.py:732: UserWarning: Some inputs do not have OOB scores. This probably means too few trees were used to compute any reliable oob estimates.\n",
      "  warn(\"Some inputs do not have OOB scores. \"\n",
      "/anaconda3/lib/python3.6/site-packages/sklearn/ensemble/forest.py:732: UserWarning: Some inputs do not have OOB scores. This probably means too few trees were used to compute any reliable oob estimates.\n",
      "  warn(\"Some inputs do not have OOB scores. \"\n",
      "/anaconda3/lib/python3.6/site-packages/sklearn/ensemble/forest.py:732: UserWarning: Some inputs do not have OOB scores. This probably means too few trees were used to compute any reliable oob estimates.\n",
      "  warn(\"Some inputs do not have OOB scores. \"\n",
      "/anaconda3/lib/python3.6/site-packages/sklearn/ensemble/forest.py:732: UserWarning: Some inputs do not have OOB scores. This probably means too few trees were used to compute any reliable oob estimates.\n",
      "  warn(\"Some inputs do not have OOB scores. \"\n",
      "/anaconda3/lib/python3.6/site-packages/sklearn/ensemble/forest.py:732: UserWarning: Some inputs do not have OOB scores. This probably means too few trees were used to compute any reliable oob estimates.\n",
      "  warn(\"Some inputs do not have OOB scores. \"\n",
      "/anaconda3/lib/python3.6/site-packages/sklearn/ensemble/forest.py:732: UserWarning: Some inputs do not have OOB scores. This probably means too few trees were used to compute any reliable oob estimates.\n",
      "  warn(\"Some inputs do not have OOB scores. \"\n",
      "/anaconda3/lib/python3.6/site-packages/sklearn/ensemble/forest.py:732: UserWarning: Some inputs do not have OOB scores. This probably means too few trees were used to compute any reliable oob estimates.\n",
      "  warn(\"Some inputs do not have OOB scores. \"\n",
      "/anaconda3/lib/python3.6/site-packages/sklearn/ensemble/forest.py:732: UserWarning: Some inputs do not have OOB scores. This probably means too few trees were used to compute any reliable oob estimates.\n",
      "  warn(\"Some inputs do not have OOB scores. \"\n"
     ]
    },
    {
     "name": "stderr",
     "output_type": "stream",
     "text": [
      "/anaconda3/lib/python3.6/site-packages/sklearn/ensemble/forest.py:732: UserWarning: Some inputs do not have OOB scores. This probably means too few trees were used to compute any reliable oob estimates.\n",
      "  warn(\"Some inputs do not have OOB scores. \"\n",
      "/anaconda3/lib/python3.6/site-packages/sklearn/ensemble/forest.py:732: UserWarning: Some inputs do not have OOB scores. This probably means too few trees were used to compute any reliable oob estimates.\n",
      "  warn(\"Some inputs do not have OOB scores. \"\n",
      "/anaconda3/lib/python3.6/site-packages/sklearn/ensemble/forest.py:732: UserWarning: Some inputs do not have OOB scores. This probably means too few trees were used to compute any reliable oob estimates.\n",
      "  warn(\"Some inputs do not have OOB scores. \"\n",
      "/anaconda3/lib/python3.6/site-packages/sklearn/ensemble/forest.py:732: UserWarning: Some inputs do not have OOB scores. This probably means too few trees were used to compute any reliable oob estimates.\n",
      "  warn(\"Some inputs do not have OOB scores. \"\n",
      "/anaconda3/lib/python3.6/site-packages/sklearn/ensemble/forest.py:732: UserWarning: Some inputs do not have OOB scores. This probably means too few trees were used to compute any reliable oob estimates.\n",
      "  warn(\"Some inputs do not have OOB scores. \"\n",
      "/anaconda3/lib/python3.6/site-packages/sklearn/ensemble/forest.py:732: UserWarning: Some inputs do not have OOB scores. This probably means too few trees were used to compute any reliable oob estimates.\n",
      "  warn(\"Some inputs do not have OOB scores. \"\n",
      "/anaconda3/lib/python3.6/site-packages/sklearn/ensemble/forest.py:732: UserWarning: Some inputs do not have OOB scores. This probably means too few trees were used to compute any reliable oob estimates.\n",
      "  warn(\"Some inputs do not have OOB scores. \"\n",
      "/anaconda3/lib/python3.6/site-packages/sklearn/ensemble/forest.py:732: UserWarning: Some inputs do not have OOB scores. This probably means too few trees were used to compute any reliable oob estimates.\n",
      "  warn(\"Some inputs do not have OOB scores. \"\n",
      "/anaconda3/lib/python3.6/site-packages/sklearn/ensemble/forest.py:732: UserWarning: Some inputs do not have OOB scores. This probably means too few trees were used to compute any reliable oob estimates.\n",
      "  warn(\"Some inputs do not have OOB scores. \"\n",
      "/anaconda3/lib/python3.6/site-packages/sklearn/ensemble/forest.py:732: UserWarning: Some inputs do not have OOB scores. This probably means too few trees were used to compute any reliable oob estimates.\n",
      "  warn(\"Some inputs do not have OOB scores. \"\n",
      "/anaconda3/lib/python3.6/site-packages/sklearn/ensemble/forest.py:732: UserWarning: Some inputs do not have OOB scores. This probably means too few trees were used to compute any reliable oob estimates.\n",
      "  warn(\"Some inputs do not have OOB scores. \"\n",
      "/anaconda3/lib/python3.6/site-packages/sklearn/ensemble/forest.py:732: UserWarning: Some inputs do not have OOB scores. This probably means too few trees were used to compute any reliable oob estimates.\n",
      "  warn(\"Some inputs do not have OOB scores. \"\n",
      "/anaconda3/lib/python3.6/site-packages/sklearn/ensemble/forest.py:732: UserWarning: Some inputs do not have OOB scores. This probably means too few trees were used to compute any reliable oob estimates.\n",
      "  warn(\"Some inputs do not have OOB scores. \"\n",
      "/anaconda3/lib/python3.6/site-packages/sklearn/ensemble/forest.py:732: UserWarning: Some inputs do not have OOB scores. This probably means too few trees were used to compute any reliable oob estimates.\n",
      "  warn(\"Some inputs do not have OOB scores. \"\n",
      "/anaconda3/lib/python3.6/site-packages/sklearn/ensemble/forest.py:732: UserWarning: Some inputs do not have OOB scores. This probably means too few trees were used to compute any reliable oob estimates.\n",
      "  warn(\"Some inputs do not have OOB scores. \"\n",
      "/anaconda3/lib/python3.6/site-packages/sklearn/ensemble/forest.py:732: UserWarning: Some inputs do not have OOB scores. This probably means too few trees were used to compute any reliable oob estimates.\n",
      "  warn(\"Some inputs do not have OOB scores. \"\n",
      "/anaconda3/lib/python3.6/site-packages/sklearn/ensemble/forest.py:732: UserWarning: Some inputs do not have OOB scores. This probably means too few trees were used to compute any reliable oob estimates.\n",
      "  warn(\"Some inputs do not have OOB scores. \"\n",
      "/anaconda3/lib/python3.6/site-packages/sklearn/ensemble/forest.py:732: UserWarning: Some inputs do not have OOB scores. This probably means too few trees were used to compute any reliable oob estimates.\n",
      "  warn(\"Some inputs do not have OOB scores. \"\n",
      "/anaconda3/lib/python3.6/site-packages/sklearn/ensemble/forest.py:732: UserWarning: Some inputs do not have OOB scores. This probably means too few trees were used to compute any reliable oob estimates.\n",
      "  warn(\"Some inputs do not have OOB scores. \"\n",
      "/anaconda3/lib/python3.6/site-packages/sklearn/ensemble/forest.py:732: UserWarning: Some inputs do not have OOB scores. This probably means too few trees were used to compute any reliable oob estimates.\n",
      "  warn(\"Some inputs do not have OOB scores. \"\n",
      "/anaconda3/lib/python3.6/site-packages/sklearn/ensemble/forest.py:732: UserWarning: Some inputs do not have OOB scores. This probably means too few trees were used to compute any reliable oob estimates.\n",
      "  warn(\"Some inputs do not have OOB scores. \"\n",
      "/anaconda3/lib/python3.6/site-packages/sklearn/ensemble/forest.py:732: UserWarning: Some inputs do not have OOB scores. This probably means too few trees were used to compute any reliable oob estimates.\n",
      "  warn(\"Some inputs do not have OOB scores. \"\n",
      "/anaconda3/lib/python3.6/site-packages/sklearn/ensemble/forest.py:732: UserWarning: Some inputs do not have OOB scores. This probably means too few trees were used to compute any reliable oob estimates.\n",
      "  warn(\"Some inputs do not have OOB scores. \"\n",
      "/anaconda3/lib/python3.6/site-packages/sklearn/ensemble/forest.py:732: UserWarning: Some inputs do not have OOB scores. This probably means too few trees were used to compute any reliable oob estimates.\n",
      "  warn(\"Some inputs do not have OOB scores. \"\n",
      "/anaconda3/lib/python3.6/site-packages/sklearn/ensemble/forest.py:732: UserWarning: Some inputs do not have OOB scores. This probably means too few trees were used to compute any reliable oob estimates.\n",
      "  warn(\"Some inputs do not have OOB scores. \"\n",
      "/anaconda3/lib/python3.6/site-packages/sklearn/ensemble/forest.py:732: UserWarning: Some inputs do not have OOB scores. This probably means too few trees were used to compute any reliable oob estimates.\n",
      "  warn(\"Some inputs do not have OOB scores. \"\n",
      "/anaconda3/lib/python3.6/site-packages/sklearn/ensemble/forest.py:732: UserWarning: Some inputs do not have OOB scores. This probably means too few trees were used to compute any reliable oob estimates.\n",
      "  warn(\"Some inputs do not have OOB scores. \"\n",
      "/anaconda3/lib/python3.6/site-packages/sklearn/ensemble/forest.py:732: UserWarning: Some inputs do not have OOB scores. This probably means too few trees were used to compute any reliable oob estimates.\n",
      "  warn(\"Some inputs do not have OOB scores. \"\n",
      "/anaconda3/lib/python3.6/site-packages/sklearn/ensemble/forest.py:732: UserWarning: Some inputs do not have OOB scores. This probably means too few trees were used to compute any reliable oob estimates.\n",
      "  warn(\"Some inputs do not have OOB scores. \"\n",
      "/anaconda3/lib/python3.6/site-packages/sklearn/ensemble/forest.py:732: UserWarning: Some inputs do not have OOB scores. This probably means too few trees were used to compute any reliable oob estimates.\n",
      "  warn(\"Some inputs do not have OOB scores. \"\n",
      "/anaconda3/lib/python3.6/site-packages/sklearn/ensemble/forest.py:732: UserWarning: Some inputs do not have OOB scores. This probably means too few trees were used to compute any reliable oob estimates.\n",
      "  warn(\"Some inputs do not have OOB scores. \"\n"
     ]
    }
   ],
   "source": [
    "# Change hyperparamters(max_depth) to see effect on bias and variance\n",
    "max_depth_RF_regression = np.arange(2,50)\n",
    "bias_RF_regression_depth_list = []\n",
    "var_RF_regression_depth_list = []\n",
    "total_RF_regression_depth_list = []\n",
    "err_RF_regression_list_test = []\n",
    "err_RF_regression_list_training = []\n",
    "err_tot_RF_regression_list = []\n",
    "cv_error_RF_regression = []\n",
    "oob_error_RF_regression = []\n",
    "score_RF_regression_depth_list_test = []\n",
    "score_RF_regression_depth_list_training = []\n",
    "\n",
    "model_RF_regressor = RandomForestRegressor(random_state=42,oob_score=True)\n",
    "model_RF_regressor.set_params(max_depth= 20, \n",
    "                        max_features= 'sqrt',  \n",
    "                        n_estimators=20, \n",
    "                        oob_score = True,\n",
    "                        criterion = 'mse')\n",
    "\n",
    "for entry in max_depth_RF_regression:\n",
    "    # \n",
    "    model_RF_regressor.set_params(max_depth=entry)\n",
    "    model_RF_regressor.fit(X_train,  np.ravel(y_train))\n",
    "    predicted_y_RF_regressor_test = model_RF_regressor.predict(X_test)\n",
    "    predicted_y_RF_regressor_train = model_RF_regressor.predict(X_train)\n",
    "    bias_variable = bias(predicted_y_RF_regressor_test, y_test)\n",
    "    variance_variable = variance(predicted_y_RF_regressor_test)\n",
    "    bias_RF_regression_depth_list.append(bias_variable)\n",
    "    var_RF_regression_depth_list.append(variance_variable)\n",
    "    total_RF_regression = bias_variable + variance_variable\n",
    "    total_RF_regression_depth_list.append(total_RF_regression)\n",
    "    # training and test estimate\n",
    "    err_RF_test_variable =mean_squared_error(y_test,predicted_y_RF_regressor_test)\n",
    "    err_RF_training_variable = mean_squared_error(y_train, predicted_y_RF_regressor_train)\n",
    "    err_RF_tot_variable = err_RF_test_variable + err_RF_training_variable\n",
    "    err_RF_regression_list_test.append(err_RF_test_variable)\n",
    "    err_RF_regression_list_training.append(err_RF_training_variable)\n",
    "    err_tot_RF_regression_list.append(err_RF_tot_variable)\n",
    "    # average test accuracy\n",
    "    cv_error_RF_regression.append(np.mean(cross_val_score(model_RF_regressor, X_features_train_file, y_train_file, cv = 5)))\n",
    "    oob_error_RF_regression.append(model_RF_regressor.oob_score_)\n",
    "    # fraction of accurate labels generated\n",
    "    score_RF_regression_depth_list_test.append(model_RF_regressor.score(X_test, y_test))\n",
    "    score_RF_regression_depth_list_training.append(model_RF_regressor.score(X_train, y_train))"
   ]
  },
  {
   "cell_type": "code",
   "execution_count": 35,
   "metadata": {},
   "outputs": [
    {
     "data": {
      "image/png": "[encoded data removed]",
      "text/plain": [
       "<matplotlib.figure.Figure at 0x1a1c4d6c50>"
      ]
     },
     "metadata": {},
     "output_type": "display_data"
    }
   ],
   "source": [
    "# Plot bias vs variance from changing the depth of the tree\n",
    "plt.figure(figsize=(7.5,7.5))\n",
    "plt.plot(max_depth_RF_regression, bias_RF_regression_depth_list,color = 'b')\n",
    "plt.plot(max_depth_RF_regression, var_RF_regression_depth_list,color = 'g')\n",
    "plt.plot(max_depth_RF_regression, total_RF_regression_depth_list,color = 'r')\n",
    "plt.legend(['Bias', 'Variance', 'Total'], loc='upper right',fontsize = 16)\n",
    "plt.title('Random Forest: Bias vs Variance',fontsize = 16)\n",
    "plt.ylabel('Error',fontsize = 16)\n",
    "plt.xlabel('Max_Depth',fontsize = 16)\n",
    "plt.ylim(0.0001,0.01)\n",
    "plt.show()"
   ]
  },
  {
   "cell_type": "code",
   "execution_count": 36,
   "metadata": {},
   "outputs": [
    {
     "data": {
      "image/png": "[encoded data removed]",
      "text/plain": [
       "<matplotlib.figure.Figure at 0x1a1c4d6898>"
      ]
     },
     "metadata": {},
     "output_type": "display_data"
    }
   ],
   "source": [
    "plt.figure(figsize=(7.5,7.5))\n",
    "plt.plot(max_depth_RF_regression, score_RF_regression_depth_list_training,color = 'b')\n",
    "plt.plot(max_depth_RF_regression, score_RF_regression_depth_list_test,color = 'r')\n",
    "plt.legend(['Training Accuracy', 'Test Accuracy'], loc='upper right',fontsize = 16)\n",
    "plt.title('Random Forest: Accuracy',fontsize = 16)\n",
    "plt.ylabel('Accuracy',fontsize = 16)\n",
    "plt.xlabel('Max_Depth',fontsize = 16)\n",
    "plt.ylim(0.5,1.025)\n",
    "plt.show()"
   ]
  },
  {
   "cell_type": "code",
   "execution_count": 37,
   "metadata": {},
   "outputs": [
    {
     "data": {
      "image/png": "[encoded data removed]",
      "text/plain": [
       "<matplotlib.figure.Figure at 0x1a1c4b59b0>"
      ]
     },
     "metadata": {},
     "output_type": "display_data"
    }
   ],
   "source": [
    "plt.figure(figsize=(7.5,7.5))\n",
    "plt.plot(max_depth_RF_regression, err_RF_regression_list_training,color = 'b')\n",
    "plt.plot(max_depth_RF_regression, err_RF_regression_list_test,color = 'g')\n",
    "plt.plot(max_depth_RF_regression, err_tot_RF_regression_list,color = 'r')\n",
    "plt.legend(['Training Error', 'Test Error', 'Total Error'], loc='upper right',fontsize = 16)\n",
    "plt.title('Random Forest: Mean-Squared Error',fontsize = 16)\n",
    "plt.ylabel('Error',fontsize = 16)\n",
    "plt.xlabel('Max_Depth',fontsize = 16)\n",
    "#plt.ylim(0,0.01)\n",
    "plt.show()"
   ]
  },
  {
   "cell_type": "markdown",
   "metadata": {},
   "source": [
    "#### Comparison of cross validation and OOB score reveals similar accuracy estimates"
   ]
  },
  {
   "cell_type": "code",
   "execution_count": 38,
   "metadata": {},
   "outputs": [
    {
     "data": {
      "image/png": "[encoded data removed]",
      "text/plain": [
       "<matplotlib.figure.Figure at 0x1a1c56fe80>"
      ]
     },
     "metadata": {},
     "output_type": "display_data"
    }
   ],
   "source": [
    "plt.figure(figsize=(7.5,7.5))\n",
    "plt.plot(max_depth_RF_regression, cv_error_RF_regression,color='k')\n",
    "plt.plot(max_depth_RF_regression, oob_error_RF_regression,color='r')\n",
    "plt.plot(max_depth_RF_regression, score_RF_regression_depth_list_test,color = 'b')\n",
    "plt.legend(['Cross Validation Score', 'Out-of-Bag Score','Test Accuracy'], loc='upper right',fontsize=16)\n",
    "plt.title('Random Forest: CV vs OOB',fontsize=16)\n",
    "plt.ylabel('Accuracy',fontsize=16)\n",
    "plt.xlabel('Max_Depth',fontsize=16)\n",
    "plt.ylim(0.5,1.025)\n",
    "plt.show()"
   ]
  },
  {
   "cell_type": "markdown",
   "metadata": {},
   "source": [
    "### N-estimator tuning"
   ]
  },
  {
   "cell_type": "code",
   "execution_count": null,
   "metadata": {},
   "outputs": [
    {
     "name": "stderr",
     "output_type": "stream",
     "text": [
      "/anaconda3/lib/python3.6/site-packages/sklearn/ensemble/forest.py:732: UserWarning: Some inputs do not have OOB scores. This probably means too few trees were used to compute any reliable oob estimates.\n",
      "  warn(\"Some inputs do not have OOB scores. \"\n",
      "/anaconda3/lib/python3.6/site-packages/sklearn/ensemble/forest.py:732: UserWarning: Some inputs do not have OOB scores. This probably means too few trees were used to compute any reliable oob estimates.\n",
      "  warn(\"Some inputs do not have OOB scores. \"\n",
      "/anaconda3/lib/python3.6/site-packages/sklearn/ensemble/forest.py:732: UserWarning: Some inputs do not have OOB scores. This probably means too few trees were used to compute any reliable oob estimates.\n",
      "  warn(\"Some inputs do not have OOB scores. \"\n",
      "/anaconda3/lib/python3.6/site-packages/sklearn/ensemble/forest.py:732: UserWarning: Some inputs do not have OOB scores. This probably means too few trees were used to compute any reliable oob estimates.\n",
      "  warn(\"Some inputs do not have OOB scores. \"\n",
      "/anaconda3/lib/python3.6/site-packages/sklearn/ensemble/forest.py:732: UserWarning: Some inputs do not have OOB scores. This probably means too few trees were used to compute any reliable oob estimates.\n",
      "  warn(\"Some inputs do not have OOB scores. \"\n",
      "/anaconda3/lib/python3.6/site-packages/sklearn/ensemble/forest.py:732: UserWarning: Some inputs do not have OOB scores. This probably means too few trees were used to compute any reliable oob estimates.\n",
      "  warn(\"Some inputs do not have OOB scores. \"\n",
      "/anaconda3/lib/python3.6/site-packages/sklearn/ensemble/forest.py:732: UserWarning: Some inputs do not have OOB scores. This probably means too few trees were used to compute any reliable oob estimates.\n",
      "  warn(\"Some inputs do not have OOB scores. \"\n",
      "/anaconda3/lib/python3.6/site-packages/sklearn/ensemble/forest.py:732: UserWarning: Some inputs do not have OOB scores. This probably means too few trees were used to compute any reliable oob estimates.\n",
      "  warn(\"Some inputs do not have OOB scores. \"\n",
      "/anaconda3/lib/python3.6/site-packages/sklearn/ensemble/forest.py:732: UserWarning: Some inputs do not have OOB scores. This probably means too few trees were used to compute any reliable oob estimates.\n",
      "  warn(\"Some inputs do not have OOB scores. \"\n",
      "/anaconda3/lib/python3.6/site-packages/sklearn/ensemble/forest.py:732: UserWarning: Some inputs do not have OOB scores. This probably means too few trees were used to compute any reliable oob estimates.\n",
      "  warn(\"Some inputs do not have OOB scores. \"\n",
      "/anaconda3/lib/python3.6/site-packages/sklearn/ensemble/forest.py:732: UserWarning: Some inputs do not have OOB scores. This probably means too few trees were used to compute any reliable oob estimates.\n",
      "  warn(\"Some inputs do not have OOB scores. \"\n",
      "/anaconda3/lib/python3.6/site-packages/sklearn/ensemble/forest.py:732: UserWarning: Some inputs do not have OOB scores. This probably means too few trees were used to compute any reliable oob estimates.\n",
      "  warn(\"Some inputs do not have OOB scores. \"\n",
      "/anaconda3/lib/python3.6/site-packages/sklearn/ensemble/forest.py:732: UserWarning: Some inputs do not have OOB scores. This probably means too few trees were used to compute any reliable oob estimates.\n",
      "  warn(\"Some inputs do not have OOB scores. \"\n",
      "/anaconda3/lib/python3.6/site-packages/sklearn/ensemble/forest.py:732: UserWarning: Some inputs do not have OOB scores. This probably means too few trees were used to compute any reliable oob estimates.\n",
      "  warn(\"Some inputs do not have OOB scores. \"\n",
      "/anaconda3/lib/python3.6/site-packages/sklearn/ensemble/forest.py:732: UserWarning: Some inputs do not have OOB scores. This probably means too few trees were used to compute any reliable oob estimates.\n",
      "  warn(\"Some inputs do not have OOB scores. \"\n",
      "/anaconda3/lib/python3.6/site-packages/sklearn/ensemble/forest.py:732: UserWarning: Some inputs do not have OOB scores. This probably means too few trees were used to compute any reliable oob estimates.\n",
      "  warn(\"Some inputs do not have OOB scores. \"\n",
      "/anaconda3/lib/python3.6/site-packages/sklearn/ensemble/forest.py:732: UserWarning: Some inputs do not have OOB scores. This probably means too few trees were used to compute any reliable oob estimates.\n",
      "  warn(\"Some inputs do not have OOB scores. \"\n",
      "/anaconda3/lib/python3.6/site-packages/sklearn/ensemble/forest.py:732: UserWarning: Some inputs do not have OOB scores. This probably means too few trees were used to compute any reliable oob estimates.\n",
      "  warn(\"Some inputs do not have OOB scores. \"\n",
      "/anaconda3/lib/python3.6/site-packages/sklearn/ensemble/forest.py:732: UserWarning: Some inputs do not have OOB scores. This probably means too few trees were used to compute any reliable oob estimates.\n",
      "  warn(\"Some inputs do not have OOB scores. \"\n",
      "/anaconda3/lib/python3.6/site-packages/sklearn/ensemble/forest.py:732: UserWarning: Some inputs do not have OOB scores. This probably means too few trees were used to compute any reliable oob estimates.\n",
      "  warn(\"Some inputs do not have OOB scores. \"\n",
      "/anaconda3/lib/python3.6/site-packages/sklearn/ensemble/forest.py:732: UserWarning: Some inputs do not have OOB scores. This probably means too few trees were used to compute any reliable oob estimates.\n",
      "  warn(\"Some inputs do not have OOB scores. \"\n",
      "/anaconda3/lib/python3.6/site-packages/sklearn/ensemble/forest.py:732: UserWarning: Some inputs do not have OOB scores. This probably means too few trees were used to compute any reliable oob estimates.\n",
      "  warn(\"Some inputs do not have OOB scores. \"\n",
      "/anaconda3/lib/python3.6/site-packages/sklearn/ensemble/forest.py:732: UserWarning: Some inputs do not have OOB scores. This probably means too few trees were used to compute any reliable oob estimates.\n",
      "  warn(\"Some inputs do not have OOB scores. \"\n",
      "/anaconda3/lib/python3.6/site-packages/sklearn/ensemble/forest.py:732: UserWarning: Some inputs do not have OOB scores. This probably means too few trees were used to compute any reliable oob estimates.\n",
      "  warn(\"Some inputs do not have OOB scores. \"\n",
      "/anaconda3/lib/python3.6/site-packages/sklearn/ensemble/forest.py:732: UserWarning: Some inputs do not have OOB scores. This probably means too few trees were used to compute any reliable oob estimates.\n",
      "  warn(\"Some inputs do not have OOB scores. \"\n",
      "/anaconda3/lib/python3.6/site-packages/sklearn/ensemble/forest.py:732: UserWarning: Some inputs do not have OOB scores. This probably means too few trees were used to compute any reliable oob estimates.\n",
      "  warn(\"Some inputs do not have OOB scores. \"\n",
      "/anaconda3/lib/python3.6/site-packages/sklearn/ensemble/forest.py:732: UserWarning: Some inputs do not have OOB scores. This probably means too few trees were used to compute any reliable oob estimates.\n",
      "  warn(\"Some inputs do not have OOB scores. \"\n",
      "/anaconda3/lib/python3.6/site-packages/sklearn/ensemble/forest.py:732: UserWarning: Some inputs do not have OOB scores. This probably means too few trees were used to compute any reliable oob estimates.\n",
      "  warn(\"Some inputs do not have OOB scores. \"\n",
      "/anaconda3/lib/python3.6/site-packages/sklearn/ensemble/forest.py:732: UserWarning: Some inputs do not have OOB scores. This probably means too few trees were used to compute any reliable oob estimates.\n",
      "  warn(\"Some inputs do not have OOB scores. \"\n",
      "/anaconda3/lib/python3.6/site-packages/sklearn/ensemble/forest.py:732: UserWarning: Some inputs do not have OOB scores. This probably means too few trees were used to compute any reliable oob estimates.\n",
      "  warn(\"Some inputs do not have OOB scores. \"\n",
      "/anaconda3/lib/python3.6/site-packages/sklearn/ensemble/forest.py:732: UserWarning: Some inputs do not have OOB scores. This probably means too few trees were used to compute any reliable oob estimates.\n",
      "  warn(\"Some inputs do not have OOB scores. \"\n",
      "/anaconda3/lib/python3.6/site-packages/sklearn/ensemble/forest.py:732: UserWarning: Some inputs do not have OOB scores. This probably means too few trees were used to compute any reliable oob estimates.\n",
      "  warn(\"Some inputs do not have OOB scores. \"\n",
      "/anaconda3/lib/python3.6/site-packages/sklearn/ensemble/forest.py:732: UserWarning: Some inputs do not have OOB scores. This probably means too few trees were used to compute any reliable oob estimates.\n",
      "  warn(\"Some inputs do not have OOB scores. \"\n"
     ]
    },
    {
     "name": "stderr",
     "output_type": "stream",
     "text": [
      "/anaconda3/lib/python3.6/site-packages/sklearn/ensemble/forest.py:732: UserWarning: Some inputs do not have OOB scores. This probably means too few trees were used to compute any reliable oob estimates.\n",
      "  warn(\"Some inputs do not have OOB scores. \"\n",
      "/anaconda3/lib/python3.6/site-packages/sklearn/ensemble/forest.py:732: UserWarning: Some inputs do not have OOB scores. This probably means too few trees were used to compute any reliable oob estimates.\n",
      "  warn(\"Some inputs do not have OOB scores. \"\n",
      "/anaconda3/lib/python3.6/site-packages/sklearn/ensemble/forest.py:732: UserWarning: Some inputs do not have OOB scores. This probably means too few trees were used to compute any reliable oob estimates.\n",
      "  warn(\"Some inputs do not have OOB scores. \"\n",
      "/anaconda3/lib/python3.6/site-packages/sklearn/ensemble/forest.py:732: UserWarning: Some inputs do not have OOB scores. This probably means too few trees were used to compute any reliable oob estimates.\n",
      "  warn(\"Some inputs do not have OOB scores. \"\n",
      "/anaconda3/lib/python3.6/site-packages/sklearn/ensemble/forest.py:732: UserWarning: Some inputs do not have OOB scores. This probably means too few trees were used to compute any reliable oob estimates.\n",
      "  warn(\"Some inputs do not have OOB scores. \"\n",
      "/anaconda3/lib/python3.6/site-packages/sklearn/ensemble/forest.py:732: UserWarning: Some inputs do not have OOB scores. This probably means too few trees were used to compute any reliable oob estimates.\n",
      "  warn(\"Some inputs do not have OOB scores. \"\n",
      "/anaconda3/lib/python3.6/site-packages/sklearn/ensemble/forest.py:732: UserWarning: Some inputs do not have OOB scores. This probably means too few trees were used to compute any reliable oob estimates.\n",
      "  warn(\"Some inputs do not have OOB scores. \"\n",
      "/anaconda3/lib/python3.6/site-packages/sklearn/ensemble/forest.py:732: UserWarning: Some inputs do not have OOB scores. This probably means too few trees were used to compute any reliable oob estimates.\n",
      "  warn(\"Some inputs do not have OOB scores. \"\n",
      "/anaconda3/lib/python3.6/site-packages/sklearn/ensemble/forest.py:732: UserWarning: Some inputs do not have OOB scores. This probably means too few trees were used to compute any reliable oob estimates.\n",
      "  warn(\"Some inputs do not have OOB scores. \"\n",
      "/anaconda3/lib/python3.6/site-packages/sklearn/ensemble/forest.py:732: UserWarning: Some inputs do not have OOB scores. This probably means too few trees were used to compute any reliable oob estimates.\n",
      "  warn(\"Some inputs do not have OOB scores. \"\n",
      "/anaconda3/lib/python3.6/site-packages/sklearn/ensemble/forest.py:732: UserWarning: Some inputs do not have OOB scores. This probably means too few trees were used to compute any reliable oob estimates.\n",
      "  warn(\"Some inputs do not have OOB scores. \"\n",
      "/anaconda3/lib/python3.6/site-packages/sklearn/ensemble/forest.py:732: UserWarning: Some inputs do not have OOB scores. This probably means too few trees were used to compute any reliable oob estimates.\n",
      "  warn(\"Some inputs do not have OOB scores. \"\n",
      "/anaconda3/lib/python3.6/site-packages/sklearn/ensemble/forest.py:732: UserWarning: Some inputs do not have OOB scores. This probably means too few trees were used to compute any reliable oob estimates.\n",
      "  warn(\"Some inputs do not have OOB scores. \"\n",
      "/anaconda3/lib/python3.6/site-packages/sklearn/ensemble/forest.py:732: UserWarning: Some inputs do not have OOB scores. This probably means too few trees were used to compute any reliable oob estimates.\n",
      "  warn(\"Some inputs do not have OOB scores. \"\n",
      "/anaconda3/lib/python3.6/site-packages/sklearn/ensemble/forest.py:732: UserWarning: Some inputs do not have OOB scores. This probably means too few trees were used to compute any reliable oob estimates.\n",
      "  warn(\"Some inputs do not have OOB scores. \"\n",
      "/anaconda3/lib/python3.6/site-packages/sklearn/ensemble/forest.py:732: UserWarning: Some inputs do not have OOB scores. This probably means too few trees were used to compute any reliable oob estimates.\n",
      "  warn(\"Some inputs do not have OOB scores. \"\n",
      "/anaconda3/lib/python3.6/site-packages/sklearn/ensemble/forest.py:732: UserWarning: Some inputs do not have OOB scores. This probably means too few trees were used to compute any reliable oob estimates.\n",
      "  warn(\"Some inputs do not have OOB scores. \"\n",
      "/anaconda3/lib/python3.6/site-packages/sklearn/ensemble/forest.py:732: UserWarning: Some inputs do not have OOB scores. This probably means too few trees were used to compute any reliable oob estimates.\n",
      "  warn(\"Some inputs do not have OOB scores. \"\n",
      "/anaconda3/lib/python3.6/site-packages/sklearn/ensemble/forest.py:732: UserWarning: Some inputs do not have OOB scores. This probably means too few trees were used to compute any reliable oob estimates.\n",
      "  warn(\"Some inputs do not have OOB scores. \"\n",
      "/anaconda3/lib/python3.6/site-packages/sklearn/ensemble/forest.py:732: UserWarning: Some inputs do not have OOB scores. This probably means too few trees were used to compute any reliable oob estimates.\n",
      "  warn(\"Some inputs do not have OOB scores. \"\n",
      "/anaconda3/lib/python3.6/site-packages/sklearn/ensemble/forest.py:732: UserWarning: Some inputs do not have OOB scores. This probably means too few trees were used to compute any reliable oob estimates.\n",
      "  warn(\"Some inputs do not have OOB scores. \"\n",
      "/anaconda3/lib/python3.6/site-packages/sklearn/ensemble/forest.py:732: UserWarning: Some inputs do not have OOB scores. This probably means too few trees were used to compute any reliable oob estimates.\n",
      "  warn(\"Some inputs do not have OOB scores. \"\n",
      "/anaconda3/lib/python3.6/site-packages/sklearn/ensemble/forest.py:732: UserWarning: Some inputs do not have OOB scores. This probably means too few trees were used to compute any reliable oob estimates.\n",
      "  warn(\"Some inputs do not have OOB scores. \"\n",
      "/anaconda3/lib/python3.6/site-packages/sklearn/ensemble/forest.py:732: UserWarning: Some inputs do not have OOB scores. This probably means too few trees were used to compute any reliable oob estimates.\n",
      "  warn(\"Some inputs do not have OOB scores. \"\n",
      "/anaconda3/lib/python3.6/site-packages/sklearn/ensemble/forest.py:732: UserWarning: Some inputs do not have OOB scores. This probably means too few trees were used to compute any reliable oob estimates.\n",
      "  warn(\"Some inputs do not have OOB scores. \"\n",
      "/anaconda3/lib/python3.6/site-packages/sklearn/ensemble/forest.py:732: UserWarning: Some inputs do not have OOB scores. This probably means too few trees were used to compute any reliable oob estimates.\n",
      "  warn(\"Some inputs do not have OOB scores. \"\n",
      "/anaconda3/lib/python3.6/site-packages/sklearn/ensemble/forest.py:732: UserWarning: Some inputs do not have OOB scores. This probably means too few trees were used to compute any reliable oob estimates.\n",
      "  warn(\"Some inputs do not have OOB scores. \"\n",
      "/anaconda3/lib/python3.6/site-packages/sklearn/ensemble/forest.py:732: UserWarning: Some inputs do not have OOB scores. This probably means too few trees were used to compute any reliable oob estimates.\n",
      "  warn(\"Some inputs do not have OOB scores. \"\n"
     ]
    }
   ],
   "source": [
    "# Change hyperparamters(n_estimators) to see effect on bias and variance\n",
    "n_estimator_RF_regression = np.arange(10,60)\n",
    "bias_RF_regression_trees_list = []\n",
    "var_RF_regression_trees_list = []\n",
    "total_RF_regression_trees_list = []\n",
    "err_RF_regression_list_test = []\n",
    "err_RF_regression_list_training = []\n",
    "err_tot_RF_regression_list = []\n",
    "cv_error_RF_regression = []\n",
    "oob_error_RF_regression = []\n",
    "score_RF_regression_trees_list_test = []\n",
    "score_RF_regression_trees_list_training = []\n",
    "\n",
    "model_RF_regressor = RandomForestRegressor(random_state=42,oob_score = True)\n",
    "\n",
    "for entry in n_estimator_RF_regression:\n",
    "    \n",
    "    model_RF_regressor.set_params(n_estimators=entry)\n",
    "    model_RF_regressor.fit(X_train, np.ravel(y_train))\n",
    "    \n",
    "    predicted_y_RF_regressor_test = model_RF_regressor.predict(X_test)\n",
    "    predicted_y_RF_regressor_train = model_RF_regressor.predict(X_train)\n",
    "    bias_variable = bias(predicted_y_RF_regressor_test, y_test)\n",
    "    variance_variable = variance(predicted_y_RF_regressor_test)\n",
    "    bias_RF_regression_trees_list.append(bias_variable)\n",
    "    var_RF_regression_trees_list.append(variance_variable)\n",
    "    total_RF_regression = bias_variable + variance_variable\n",
    "    total_RF_regression_trees_list.append(total_RF_regression)\n",
    "    # training and test estimate\n",
    "    err_RF_test_variable =mean_squared_error(y_test,predicted_y_RF_regressor_test)\n",
    "    err_RF_training_variable = mean_squared_error(y_train, predicted_y_RF_regressor_train)\n",
    "    err_RF_tot_variable = err_RF_test_variable + err_RF_training_variable\n",
    "    err_RF_regression_list_test.append(err_RF_test_variable)\n",
    "    err_RF_regression_list_training.append(err_RF_training_variable)\n",
    "    err_tot_RF_regression_list.append(err_RF_tot_variable)\n",
    "    # average test accuracy\n",
    "    cv_error_RF_regression.append(np.mean(cross_val_score(model_RF_regressor, X_features_train_file, y_train_file, cv = 5)))\n",
    "    oob_error_RF_regression.append(model_RF_regressor.oob_score_)\n",
    "    \n",
    "    score_RF_regression_trees_list_test.append(model_RF_regressor.score(X_test, y_test))\n",
    "    score_RF_regression_trees_list_training.append(model_RF_regressor.score(X_train, y_train))"
   ]
  },
  {
   "cell_type": "code",
   "execution_count": null,
   "metadata": {},
   "outputs": [],
   "source": [
    "# Plot bias vs variance from changing the depth of the tree\n",
    "plt.figure(figsize=(7.5,7.5))\n",
    "plt.plot(n_estimator_RF_regression, bias_RF_regression_trees_list,color = 'b')\n",
    "plt.plot(n_estimator_RF_regression, var_RF_regression_trees_list,color = 'g')\n",
    "plt.plot(n_estimator_RF_regression, total_RF_regression_trees_list,color = 'r')\n",
    "plt.legend(['Bias', 'Variance', 'Total'], loc='upper right',fontsize = 16)\n",
    "plt.title('Bias vs Variance',fontsize = 16)\n",
    "plt.ylabel('Error',fontsize = 16)\n",
    "plt.xlabel('N_estimators',fontsize = 16)\n",
    "plt.show()"
   ]
  },
  {
   "cell_type": "code",
   "execution_count": null,
   "metadata": {},
   "outputs": [],
   "source": [
    "plt.figure(figsize=(7.5,7.5))\n",
    "plt.plot(n_estimator_RF_regression, err_RF_regression_list_training,color = 'b')\n",
    "plt.plot(n_estimator_RF_regression, err_RF_regression_list_test,color = 'g')\n",
    "plt.plot(n_estimator_RF_regression, err_tot_RF_regression_list,color = 'r')\n",
    "plt.legend(['Training Error', 'Test Error', 'Total Error'], loc='upper right',fontsize = 16)\n",
    "plt.title('Random Forest: Mean-Squared Error',fontsize = 16)\n",
    "plt.ylabel('Error',fontsize = 16)\n",
    "plt.xlabel('N_estimators',fontsize = 16)\n",
    "plt.ylim(0,0.01)\n",
    "plt.show()"
   ]
  },
  {
   "cell_type": "code",
   "execution_count": null,
   "metadata": {},
   "outputs": [],
   "source": [
    "plt.figure(figsize=(7.5,7.5))\n",
    "plt.plot(n_estimator_RF_regression, cv_error_RF_regression,color='b')\n",
    "plt.plot(n_estimator_RF_regression, oob_error_RF_regression,color='r')\n",
    "plt.legend(['Cross Validation Score', 'Out-of-Bag Score'], loc='upper right',fontsize=16)\n",
    "plt.title('Random Forest: CV vs OOB',fontsize=16)\n",
    "plt.ylabel('Accuracy',fontsize=16)\n",
    "plt.xlabel('N_estimators',fontsize=16)\n",
    "plt.ylim(0.5,1.025)\n",
    "plt.show()"
   ]
  },
  {
   "cell_type": "code",
   "execution_count": null,
   "metadata": {},
   "outputs": [],
   "source": [
    "plt.figure(figsize=(7.5,7.5))\n",
    "plt.plot(n_estimator_RF_regression, score_RF_regression_trees_list_training,color = 'b')\n",
    "plt.plot(n_estimator_RF_regression, score_RF_regression_trees_list_test,color = 'r')\n",
    "plt.legend(['Training Accuracy', 'Test Accuracy'], loc='upper right',fontsize = 16)\n",
    "plt.title('Accuracy',fontsize = 16)\n",
    "plt.ylabel('Error',fontsize = 16)\n",
    "plt.xlabel('N_estimators',fontsize = 16)\n",
    "plt.ylim(0.5,1.025)\n",
    "plt.show()"
   ]
  },
  {
   "cell_type": "markdown",
   "metadata": {},
   "source": [
    "# Variable Importance"
   ]
  },
  {
   "cell_type": "code",
   "execution_count": 51,
   "metadata": {},
   "outputs": [],
   "source": [
    "importances_rf = RF_regressor.feature_importances_\n",
    "indices_rf = np.argsort(importances_rf)[::-1]\n",
    "names = X_features_train_file.columns.tolist()"
   ]
  },
  {
   "cell_type": "code",
   "execution_count": 52,
   "metadata": {},
   "outputs": [],
   "source": [
    "def variable_importance(importance, indices):\n",
    "    \"\"\"\n",
    "    Purpose:\n",
    "    ----------\n",
    "    Prints dependent variable names ordered from largest to smallest\n",
    "    based on gini or information gain for CART model.\n",
    "\n",
    "    Parameters:\n",
    "    ----------\n",
    "    names:      Name of columns included in model\n",
    "    importance: Array returned from feature_importances_ for CART\n",
    "                   models organized by dataframe index\n",
    "    indices:    Organized index of dataframe from largest to smallest\n",
    "                   based on feature_importances_\n",
    "\n",
    "    Returns:\n",
    "    ----------\n",
    "    Print statement outputting variable importance in descending order\n",
    "    \"\"\"\n",
    "    print(\"Feature ranking:\")\n",
    "\n",
    "    for f in range(len(names_index)):\n",
    "        i = f\n",
    "        print(\"%d. The feature '%s' \\\n",
    "has a Mean Decrease in Gini of %f\" % (f + 1,\n",
    "                                         names_index[indices[i]],\n",
    "                                         importance[indices[f]]))"
   ]
  },
  {
   "cell_type": "code",
   "execution_count": 53,
   "metadata": {},
   "outputs": [
    {
     "name": "stdout",
     "output_type": "stream",
     "text": [
      "Feature ranking:\n",
      "1. The feature 'OverallQual' has a Mean Decrease in Gini of 0.119863\n",
      "2. The feature 'GrLivArea' has a Mean Decrease in Gini of 0.074938\n",
      "3. The feature 'TotalBsmtSF' has a Mean Decrease in Gini of 0.058842\n",
      "4. The feature 'GarageArea' has a Mean Decrease in Gini of 0.047903\n",
      "5. The feature '1stFlrSF' has a Mean Decrease in Gini of 0.042404\n",
      "6. The feature 'ExterQual_TA' has a Mean Decrease in Gini of 0.035145\n",
      "7. The feature 'YearBuilt' has a Mean Decrease in Gini of 0.027916\n",
      "8. The feature 'BsmtQual_Ex' has a Mean Decrease in Gini of 0.027568\n",
      "9. The feature 'GarageCars' has a Mean Decrease in Gini of 0.026418\n",
      "10. The feature 'LotArea' has a Mean Decrease in Gini of 0.026382\n",
      "11. The feature '2ndFlrSF' has a Mean Decrease in Gini of 0.025269\n",
      "12. The feature 'KitchenQual_TA' has a Mean Decrease in Gini of 0.024431\n",
      "13. The feature 'BsmtFinSF1' has a Mean Decrease in Gini of 0.023557\n",
      "14. The feature 'GarageYrBlt' has a Mean Decrease in Gini of 0.022365\n",
      "15. The feature 'ExterQual_Ex' has a Mean Decrease in Gini of 0.020713\n",
      "16. The feature 'FullBath' has a Mean Decrease in Gini of 0.020657\n",
      "17. The feature 'TotRmsAbvGrd' has a Mean Decrease in Gini of 0.020396\n",
      "18. The feature 'ExterQual_Gd' has a Mean Decrease in Gini of 0.019962\n",
      "19. The feature 'YearRemodAdd' has a Mean Decrease in Gini of 0.017450\n",
      "20. The feature 'OpenPorchSF' has a Mean Decrease in Gini of 0.016968\n",
      "21. The feature 'BsmtFinType1_GLQ' has a Mean Decrease in Gini of 0.015789\n",
      "22. The feature 'MasVnrArea' has a Mean Decrease in Gini of 0.012572\n",
      "23. The feature 'Fireplaces' has a Mean Decrease in Gini of 0.011767\n",
      "24. The feature 'Foundation_PConc' has a Mean Decrease in Gini of 0.010564\n",
      "25. The feature 'LotFrontage' has a Mean Decrease in Gini of 0.010287\n",
      "26. The feature 'KitchenQual_Gd' has a Mean Decrease in Gini of 0.009748\n",
      "27. The feature 'KitchenQual_Ex' has a Mean Decrease in Gini of 0.009220\n",
      "28. The feature 'Neighborhood_NridgHt' has a Mean Decrease in Gini of 0.008463\n",
      "29. The feature 'GarageType_Attchd' has a Mean Decrease in Gini of 0.007771\n",
      "30. The feature 'SaleCondition_Partial' has a Mean Decrease in Gini of 0.007694\n",
      "31. The feature 'HeatingQC_Ex' has a Mean Decrease in Gini of 0.007669\n",
      "32. The feature 'WoodDeckSF' has a Mean Decrease in Gini of 0.007563\n",
      "33. The feature 'FireplaceQu_Gd' has a Mean Decrease in Gini of 0.007273\n",
      "34. The feature 'HalfBath' has a Mean Decrease in Gini of 0.006934\n",
      "35. The feature 'BsmtQual_Gd' has a Mean Decrease in Gini of 0.006914\n",
      "36. The feature 'MSSubClass' has a Mean Decrease in Gini of 0.006088\n",
      "37. The feature 'BedroomAbvGr' has a Mean Decrease in Gini of 0.005978\n",
      "38. The feature 'Neighborhood_NoRidge' has a Mean Decrease in Gini of 0.005804\n",
      "39. The feature 'BsmtUnfSF' has a Mean Decrease in Gini of 0.005795\n",
      "40. The feature 'GarageFinish_Unf' has a Mean Decrease in Gini of 0.005788\n",
      "41. The feature 'Exterior1st_VinylSd' has a Mean Decrease in Gini of 0.005690\n",
      "42. The feature 'BsmtQual_TA' has a Mean Decrease in Gini of 0.004734\n",
      "43. The feature 'RoofStyle_Gable' has a Mean Decrease in Gini of 0.004332\n",
      "44. The feature 'GarageType_Detchd' has a Mean Decrease in Gini of 0.003985\n",
      "45. The feature 'OverallCond' has a Mean Decrease in Gini of 0.003861\n",
      "46. The feature 'BsmtExposure_No' has a Mean Decrease in Gini of 0.003833\n",
      "47. The feature 'Foundation_CBlock' has a Mean Decrease in Gini of 0.003727\n",
      "48. The feature 'RoofStyle_Hip' has a Mean Decrease in Gini of 0.003726\n",
      "49. The feature 'Exterior2nd_VinylSd' has a Mean Decrease in Gini of 0.003427\n",
      "50. The feature 'BsmtFullBath' has a Mean Decrease in Gini of 0.003306\n",
      "51. The feature 'MoSold' has a Mean Decrease in Gini of 0.003271\n",
      "52. The feature 'SaleType_New' has a Mean Decrease in Gini of 0.003266\n",
      "53. The feature 'MSZoning_RM' has a Mean Decrease in Gini of 0.003131\n",
      "54. The feature 'HouseStyle_2Story' has a Mean Decrease in Gini of 0.002818\n",
      "55. The feature 'GarageCond_TA' has a Mean Decrease in Gini of 0.002470\n",
      "56. The feature 'MasVnrType_None' has a Mean Decrease in Gini of 0.002387\n",
      "57. The feature 'YrSold' has a Mean Decrease in Gini of 0.002216\n",
      "58. The feature 'HouseStyle_1Story' has a Mean Decrease in Gini of 0.002173\n",
      "59. The feature 'BsmtExposure_Gd' has a Mean Decrease in Gini of 0.001966\n",
      "60. The feature 'FireplaceQu_TA' has a Mean Decrease in Gini of 0.001810\n",
      "61. The feature 'GarageFinish_RFn' has a Mean Decrease in Gini of 0.001797\n",
      "62. The feature 'BsmtExposure_Av' has a Mean Decrease in Gini of 0.001794\n",
      "63. The feature 'MSZoning_RL' has a Mean Decrease in Gini of 0.001593\n",
      "64. The feature 'CentralAir_N' has a Mean Decrease in Gini of 0.001548\n",
      "65. The feature 'LotShape_Reg' has a Mean Decrease in Gini of 0.001530\n",
      "66. The feature 'BsmtFinType1_Unf' has a Mean Decrease in Gini of 0.001491\n",
      "67. The feature 'Exterior1st_HdBoard' has a Mean Decrease in Gini of 0.001455\n",
      "68. The feature 'GarageFinish_Fin' has a Mean Decrease in Gini of 0.001438\n",
      "69. The feature 'LandContour_Bnk' has a Mean Decrease in Gini of 0.001435\n",
      "70. The feature 'BldgType_1Fam' has a Mean Decrease in Gini of 0.001397\n",
      "71. The feature 'Exterior2nd_CmentBd' has a Mean Decrease in Gini of 0.001302\n",
      "72. The feature 'ScreenPorch' has a Mean Decrease in Gini of 0.001289\n",
      "73. The feature 'SaleType_WD' has a Mean Decrease in Gini of 0.001245\n",
      "74. The feature 'Neighborhood_Crawfor' has a Mean Decrease in Gini of 0.001227\n",
      "75. The feature 'Condition1_Norm' has a Mean Decrease in Gini of 0.001171\n",
      "76. The feature 'SaleCondition_Normal' has a Mean Decrease in Gini of 0.001162\n",
      "77. The feature 'LandContour_Lvl' has a Mean Decrease in Gini of 0.001128\n",
      "78. The feature 'LandSlope_Gtl' has a Mean Decrease in Gini of 0.001123\n",
      "79. The feature 'LotConfig_Corner' has a Mean Decrease in Gini of 0.001109\n",
      "80. The feature 'LotConfig_Inside' has a Mean Decrease in Gini of 0.001060\n",
      "81. The feature 'GarageQual_TA' has a Mean Decrease in Gini of 0.001053\n",
      "82. The feature 'LotShape_IR1' has a Mean Decrease in Gini of 0.001027\n",
      "83. The feature 'BldgType_Duplex' has a Mean Decrease in Gini of 0.000981\n",
      "84. The feature 'Fence_MnPrv' has a Mean Decrease in Gini of 0.000967\n",
      "85. The feature 'CentralAir_Y' has a Mean Decrease in Gini of 0.000954\n",
      "86. The feature 'MasVnrType_BrkFace' has a Mean Decrease in Gini of 0.000885\n",
      "87. The feature 'BsmtFinSF2' has a Mean Decrease in Gini of 0.000878\n",
      "88. The feature 'MasVnrType_Stone' has a Mean Decrease in Gini of 0.000874\n",
      "89. The feature 'ExterCond_TA' has a Mean Decrease in Gini of 0.000835\n",
      "90. The feature 'HeatingQC_TA' has a Mean Decrease in Gini of 0.000826\n",
      "91. The feature 'PavedDrive_N' has a Mean Decrease in Gini of 0.000796\n",
      "92. The feature 'Foundation_BrkTil' has a Mean Decrease in Gini of 0.000713\n",
      "93. The feature 'Exterior1st_MetalSd' has a Mean Decrease in Gini of 0.000677\n",
      "94. The feature 'LandContour_Low' has a Mean Decrease in Gini of 0.000671\n",
      "95. The feature 'Neighborhood_ClearCr' has a Mean Decrease in Gini of 0.000652\n",
      "96. The feature 'Exterior1st_Wd Sdng' has a Mean Decrease in Gini of 0.000629\n",
      "97. The feature 'EnclosedPorch' has a Mean Decrease in Gini of 0.000623\n",
      "98. The feature 'RoofMatl_CompShg' has a Mean Decrease in Gini of 0.000615\n",
      "99. The feature 'Exterior1st_CemntBd' has a Mean Decrease in Gini of 0.000600\n",
      "100. The feature 'Neighborhood_Mitchel' has a Mean Decrease in Gini of 0.000588\n",
      "101. The feature 'KitchenAbvGr' has a Mean Decrease in Gini of 0.000583\n",
      "102. The feature 'Neighborhood_Edwards' has a Mean Decrease in Gini of 0.000577\n",
      "103. The feature 'Electrical_SBrkr' has a Mean Decrease in Gini of 0.000540\n",
      "104. The feature 'GarageType_BuiltIn' has a Mean Decrease in Gini of 0.000537\n",
      "105. The feature 'Functional_Typ' has a Mean Decrease in Gini of 0.000533\n",
      "106. The feature 'LotConfig_CulDSac' has a Mean Decrease in Gini of 0.000533\n",
      "107. The feature 'Neighborhood_OldTown' has a Mean Decrease in Gini of 0.000499\n",
      "108. The feature 'BldgType_TwnhsE' has a Mean Decrease in Gini of 0.000484\n",
      "109. The feature 'KitchenQual_Fa' has a Mean Decrease in Gini of 0.000484\n",
      "110. The feature 'Exterior1st_Plywood' has a Mean Decrease in Gini of 0.000480\n",
      "111. The feature 'Exterior1st_BrkFace' has a Mean Decrease in Gini of 0.000454\n",
      "112. The feature 'LandSlope_Mod' has a Mean Decrease in Gini of 0.000433\n",
      "113. The feature 'HeatingQC_Gd' has a Mean Decrease in Gini of 0.000433\n",
      "114. The feature 'PavedDrive_Y' has a Mean Decrease in Gini of 0.000425\n",
      "115. The feature 'Exterior2nd_HdBoard' has a Mean Decrease in Gini of 0.000422\n",
      "116. The feature 'Exterior2nd_Wd Sdng' has a Mean Decrease in Gini of 0.000412\n",
      "117. The feature 'SaleCondition_Abnorml' has a Mean Decrease in Gini of 0.000396\n",
      "118. The feature 'BsmtCond_TA' has a Mean Decrease in Gini of 0.000394\n",
      "119. The feature 'Neighborhood_Somerst' has a Mean Decrease in Gini of 0.000393\n",
      "120. The feature 'Neighborhood_NAmes' has a Mean Decrease in Gini of 0.000384\n",
      "121. The feature 'Exterior2nd_MetalSd' has a Mean Decrease in Gini of 0.000384\n",
      "122. The feature 'LandContour_HLS' has a Mean Decrease in Gini of 0.000376\n",
      "123. The feature 'ExterCond_Gd' has a Mean Decrease in Gini of 0.000376\n",
      "124. The feature 'Neighborhood_StoneBr' has a Mean Decrease in Gini of 0.000370\n",
      "125. The feature 'BsmtFinType1_ALQ' has a Mean Decrease in Gini of 0.000363\n",
      "126. The feature 'Neighborhood_CollgCr' has a Mean Decrease in Gini of 0.000352\n",
      "127. The feature 'Neighborhood_NWAmes' has a Mean Decrease in Gini of 0.000349\n",
      "128. The feature 'Neighborhood_IDOTRR' has a Mean Decrease in Gini of 0.000306\n",
      "129. The feature 'LotShape_IR2' has a Mean Decrease in Gini of 0.000304\n",
      "130. The feature 'Alley_Pave' has a Mean Decrease in Gini of 0.000285\n",
      "131. The feature 'Foundation_Slab' has a Mean Decrease in Gini of 0.000269\n",
      "132. The feature 'HouseStyle_1.5Fin' has a Mean Decrease in Gini of 0.000249\n",
      "133. The feature 'BsmtExposure_Mn' has a Mean Decrease in Gini of 0.000231\n",
      "134. The feature 'MSZoning_C (all)' has a Mean Decrease in Gini of 0.000230\n",
      "135. The feature 'BsmtCond_Fa' has a Mean Decrease in Gini of 0.000229\n",
      "136. The feature 'Exterior2nd_Plywood' has a Mean Decrease in Gini of 0.000226\n",
      "137. The feature 'ExterCond_Fa' has a Mean Decrease in Gini of 0.000224\n",
      "138. The feature 'Condition1_Artery' has a Mean Decrease in Gini of 0.000223\n",
      "139. The feature 'Fence_GdPrv' has a Mean Decrease in Gini of 0.000223\n",
      "140. The feature 'MSZoning_FV' has a Mean Decrease in Gini of 0.000223\n",
      "141. The feature 'Neighborhood_Gilbert' has a Mean Decrease in Gini of 0.000208\n",
      "142. The feature 'MiscVal' has a Mean Decrease in Gini of 0.000207\n",
      "143. The feature 'Neighborhood_Sawyer' has a Mean Decrease in Gini of 0.000191\n",
      "144. The feature 'BsmtFinType2_Unf' has a Mean Decrease in Gini of 0.000191\n",
      "145. The feature 'Electrical_FuseA' has a Mean Decrease in Gini of 0.000187\n",
      "146. The feature 'BsmtFinType1_BLQ' has a Mean Decrease in Gini of 0.000186\n",
      "147. The feature 'Heating_GasW' has a Mean Decrease in Gini of 0.000179\n",
      "148. The feature 'FireplaceQu_Ex' has a Mean Decrease in Gini of 0.000176\n",
      "149. The feature 'Condition2_PosN' has a Mean Decrease in Gini of 0.000168\n",
      "150. The feature 'GarageType_CarPort' has a Mean Decrease in Gini of 0.000161\n",
      "151. The feature 'Neighborhood_SawyerW' has a Mean Decrease in Gini of 0.000160\n",
      "152. The feature 'BsmtCond_Gd' has a Mean Decrease in Gini of 0.000152\n",
      "153. The feature 'Condition1_Feedr' has a Mean Decrease in Gini of 0.000149\n",
      "154. The feature 'BsmtFinType1_Rec' has a Mean Decrease in Gini of 0.000147\n",
      "155. The feature 'Exterior2nd_Stucco' has a Mean Decrease in Gini of 0.000136\n",
      "156. The feature 'LotShape_IR3' has a Mean Decrease in Gini of 0.000135\n",
      "157. The feature 'LotConfig_FR2' has a Mean Decrease in Gini of 0.000134\n",
      "158. The feature 'Exterior1st_Stucco' has a Mean Decrease in Gini of 0.000133\n",
      "159. The feature 'BsmtHalfBath' has a Mean Decrease in Gini of 0.000131\n",
      "160. The feature 'Neighborhood_BrkSide' has a Mean Decrease in Gini of 0.000128\n",
      "161. The feature 'Neighborhood_Timber' has a Mean Decrease in Gini of 0.000127\n",
      "162. The feature 'RoofMatl_WdShngl' has a Mean Decrease in Gini of 0.000125\n",
      "163. The feature 'Neighborhood_MeadowV' has a Mean Decrease in Gini of 0.000125\n",
      "164. The feature 'Functional_Maj1' has a Mean Decrease in Gini of 0.000119\n",
      "165. The feature 'Alley_Grvl' has a Mean Decrease in Gini of 0.000115\n",
      "166. The feature 'GarageQual_Gd' has a Mean Decrease in Gini of 0.000112\n",
      "167. The feature 'HouseStyle_SLvl' has a Mean Decrease in Gini of 0.000107\n",
      "168. The feature 'BldgType_Twnhs' has a Mean Decrease in Gini of 0.000106\n",
      "169. The feature '3SsnPorch' has a Mean Decrease in Gini of 0.000104\n",
      "170. The feature 'HouseStyle_SFoyer' has a Mean Decrease in Gini of 0.000095\n",
      "171. The feature 'ExterQual_Fa' has a Mean Decrease in Gini of 0.000095\n",
      "172. The feature 'RoofStyle_Gambrel' has a Mean Decrease in Gini of 0.000094\n",
      "173. The feature 'Condition1_PosA' has a Mean Decrease in Gini of 0.000092\n",
      "174. The feature 'GarageQual_Fa' has a Mean Decrease in Gini of 0.000085\n",
      "175. The feature 'HeatingQC_Fa' has a Mean Decrease in Gini of 0.000085\n",
      "176. The feature 'Exterior2nd_Wd Shng' has a Mean Decrease in Gini of 0.000085\n",
      "177. The feature 'BldgType_2fmCon' has a Mean Decrease in Gini of 0.000084\n",
      "178. The feature 'Functional_Min2' has a Mean Decrease in Gini of 0.000079\n",
      "179. The feature 'Heating_Grav' has a Mean Decrease in Gini of 0.000076\n",
      "180. The feature 'Exterior2nd_BrkFace' has a Mean Decrease in Gini of 0.000075\n",
      "181. The feature 'Fence_GdWo' has a Mean Decrease in Gini of 0.000074\n",
      "182. The feature 'Condition1_PosN' has a Mean Decrease in Gini of 0.000074\n",
      "183. The feature 'LandSlope_Sev' has a Mean Decrease in Gini of 0.000074\n",
      "184. The feature 'PavedDrive_P' has a Mean Decrease in Gini of 0.000072\n",
      "185. The feature 'SaleCondition_Family' has a Mean Decrease in Gini of 0.000070\n",
      "186. The feature 'SaleType_COD' has a Mean Decrease in Gini of 0.000070\n",
      "187. The feature 'BsmtFinType1_LwQ' has a Mean Decrease in Gini of 0.000063\n",
      "188. The feature 'BsmtQual_Fa' has a Mean Decrease in Gini of 0.000060\n",
      "189. The feature 'RoofStyle_Flat' has a Mean Decrease in Gini of 0.000060\n",
      "190. The feature 'Exterior1st_AsbShng' has a Mean Decrease in Gini of 0.000057\n",
      "191. The feature 'GarageCond_Gd' has a Mean Decrease in Gini of 0.000055\n",
      "192. The feature 'Neighborhood_SWISU' has a Mean Decrease in Gini of 0.000054\n",
      "193. The feature 'BsmtFinType2_LwQ' has a Mean Decrease in Gini of 0.000044\n",
      "194. The feature 'Functional_Min1' has a Mean Decrease in Gini of 0.000042\n",
      "195. The feature 'BsmtFinType2_BLQ' has a Mean Decrease in Gini of 0.000040\n",
      "196. The feature 'MiscFeature_Shed' has a Mean Decrease in Gini of 0.000038\n",
      "197. The feature 'Neighborhood_Veenker' has a Mean Decrease in Gini of 0.000036\n",
      "198. The feature 'Electrical_FuseF' has a Mean Decrease in Gini of 0.000035\n",
      "199. The feature 'Functional_Mod' has a Mean Decrease in Gini of 0.000034\n",
      "200. The feature 'Heating_GasA' has a Mean Decrease in Gini of 0.000033\n",
      "201. The feature 'FireplaceQu_Po' has a Mean Decrease in Gini of 0.000033\n",
      "202. The feature 'Condition1_RRAn' has a Mean Decrease in Gini of 0.000032\n",
      "203. The feature 'Neighborhood_NPkVill' has a Mean Decrease in Gini of 0.000031\n",
      "204. The feature 'BsmtFinType2_Rec' has a Mean Decrease in Gini of 0.000030\n",
      "205. The feature 'RoofMatl_Tar&Grv' has a Mean Decrease in Gini of 0.000027\n",
      "206. The feature 'Condition1_RRNn' has a Mean Decrease in Gini of 0.000027\n",
      "207. The feature 'SaleCondition_Alloca' has a Mean Decrease in Gini of 0.000022\n",
      "208. The feature 'GarageCond_Fa' has a Mean Decrease in Gini of 0.000022\n",
      "209. The feature 'BsmtFinType2_ALQ' has a Mean Decrease in Gini of 0.000021\n",
      "210. The feature 'Neighborhood_Blmngtn' has a Mean Decrease in Gini of 0.000020\n",
      "211. The feature 'Neighborhood_BrDale' has a Mean Decrease in Gini of 0.000019\n",
      "212. The feature 'LowQualFinSF' has a Mean Decrease in Gini of 0.000016\n",
      "213. The feature 'SaleCondition_AdjLand' has a Mean Decrease in Gini of 0.000011\n",
      "214. The feature 'FireplaceQu_Fa' has a Mean Decrease in Gini of 0.000010\n",
      "215. The feature 'MSZoning_RH' has a Mean Decrease in Gini of 0.000009\n",
      "216. The feature 'Exterior2nd_Brk Cmn' has a Mean Decrease in Gini of 0.000009\n",
      "217. The feature 'GarageQual_Ex' has a Mean Decrease in Gini of 0.000006\n",
      "218. The feature 'HouseStyle_1.5Unf' has a Mean Decrease in Gini of 0.000006\n",
      "219. The feature 'HouseStyle_2.5Fin' has a Mean Decrease in Gini of 0.000006\n",
      "220. The feature 'Condition2_Norm' has a Mean Decrease in Gini of 0.000005\n",
      "221. The feature 'BsmtFinType2_GLQ' has a Mean Decrease in Gini of 0.000005\n",
      "222. The feature 'Heating_Wall' has a Mean Decrease in Gini of 0.000005\n",
      "223. The feature 'Exterior1st_WdShing' has a Mean Decrease in Gini of 0.000004\n",
      "224. The feature 'GarageType_Basment' has a Mean Decrease in Gini of 0.000003\n",
      "225. The feature 'Condition2_Feedr' has a Mean Decrease in Gini of 0.000003\n",
      "226. The feature 'Condition1_RRAe' has a Mean Decrease in Gini of 0.000003\n",
      "227. The feature 'Exterior2nd_AsbShng' has a Mean Decrease in Gini of 0.000002\n",
      "228. The feature 'Exterior2nd_Stone' has a Mean Decrease in Gini of 0.000002\n",
      "229. The feature 'HouseStyle_2.5Unf' has a Mean Decrease in Gini of 0.000000\n",
      "230. The feature 'MiscFeature_Othr' has a Mean Decrease in Gini of 0.000000\n",
      "231. The feature 'Exterior1st_AsphShn' has a Mean Decrease in Gini of 0.000000\n",
      "232. The feature 'MiscFeature_Gar2' has a Mean Decrease in Gini of 0.000000\n",
      "233. The feature 'Fence_MnWw' has a Mean Decrease in Gini of 0.000000\n",
      "234. The feature 'RoofMatl_WdShake' has a Mean Decrease in Gini of 0.000000\n",
      "235. The feature 'Functional_Maj2' has a Mean Decrease in Gini of 0.000000\n",
      "236. The feature 'Exterior1st_BrkComm' has a Mean Decrease in Gini of 0.000000\n",
      "237. The feature 'PoolArea' has a Mean Decrease in Gini of 0.000000\n",
      "238. The feature 'MiscFeature_TenC' has a Mean Decrease in Gini of 0.000000\n",
      "239. The feature 'Exterior2nd_Other' has a Mean Decrease in Gini of 0.000000\n",
      "240. The feature 'RoofStyle_Mansard' has a Mean Decrease in Gini of 0.000000\n",
      "241. The feature 'RoofStyle_Shed' has a Mean Decrease in Gini of 0.000000\n",
      "242. The feature 'SaleType_CWD' has a Mean Decrease in Gini of 0.000000\n",
      "243. The feature 'RoofMatl_ClyTile' has a Mean Decrease in Gini of 0.000000\n",
      "244. The feature 'Functional_Sev' has a Mean Decrease in Gini of 0.000000\n",
      "245. The feature 'GarageCond_Ex' has a Mean Decrease in Gini of 0.000000\n",
      "246. The feature 'SaleType_ConLD' has a Mean Decrease in Gini of 0.000000\n",
      "247. The feature 'SaleType_ConLI' has a Mean Decrease in Gini of 0.000000\n",
      "248. The feature 'SaleType_ConLw' has a Mean Decrease in Gini of 0.000000\n",
      "249. The feature 'RoofMatl_Membran' has a Mean Decrease in Gini of 0.000000\n",
      "250. The feature 'GarageType_2Types' has a Mean Decrease in Gini of 0.000000\n",
      "251. The feature 'SaleType_Oth' has a Mean Decrease in Gini of 0.000000\n",
      "252. The feature 'GarageQual_Po' has a Mean Decrease in Gini of 0.000000\n",
      "253. The feature 'RoofMatl_Metal' has a Mean Decrease in Gini of 0.000000\n",
      "254. The feature 'SaleType_Con' has a Mean Decrease in Gini of 0.000000\n",
      "255. The feature 'Street_Grvl' has a Mean Decrease in Gini of 0.000000\n",
      "256. The feature 'Exterior1st_CBlock' has a Mean Decrease in Gini of 0.000000\n",
      "257. The feature 'LotConfig_FR3' has a Mean Decrease in Gini of 0.000000\n",
      "258. The feature 'Exterior2nd_CBlock' has a Mean Decrease in Gini of 0.000000\n",
      "259. The feature 'MasVnrType_BrkCmn' has a Mean Decrease in Gini of 0.000000\n",
      "260. The feature 'PoolQC_Gd' has a Mean Decrease in Gini of 0.000000\n",
      "261. The feature 'Exterior2nd_AsphShn' has a Mean Decrease in Gini of 0.000000\n",
      "262. The feature 'PoolQC_Fa' has a Mean Decrease in Gini of 0.000000\n",
      "263. The feature 'PoolQC_Ex' has a Mean Decrease in Gini of 0.000000\n",
      "264. The feature 'ExterCond_Ex' has a Mean Decrease in Gini of 0.000000\n",
      "265. The feature 'ExterCond_Po' has a Mean Decrease in Gini of 0.000000\n",
      "266. The feature 'Foundation_Stone' has a Mean Decrease in Gini of 0.000000\n",
      "267. The feature 'Foundation_Wood' has a Mean Decrease in Gini of 0.000000\n",
      "268. The feature 'Condition1_RRNe' has a Mean Decrease in Gini of 0.000000\n",
      "269. The feature 'RoofMatl_Roll' has a Mean Decrease in Gini of 0.000000\n",
      "270. The feature 'Condition2_Artery' has a Mean Decrease in Gini of 0.000000\n",
      "271. The feature 'BsmtCond_Po' has a Mean Decrease in Gini of 0.000000\n",
      "272. The feature 'Utilities_NoSeWa' has a Mean Decrease in Gini of 0.000000\n",
      "273. The feature 'Electrical_Mix' has a Mean Decrease in Gini of 0.000000\n",
      "274. The feature 'Utilities_AllPub' has a Mean Decrease in Gini of 0.000000\n",
      "275. The feature 'Condition2_PosA' has a Mean Decrease in Gini of 0.000000\n",
      "276. The feature 'Heating_Floor' has a Mean Decrease in Gini of 0.000000\n",
      "277. The feature 'Condition2_RRAe' has a Mean Decrease in Gini of 0.000000\n",
      "278. The feature 'Condition2_RRAn' has a Mean Decrease in Gini of 0.000000\n",
      "279. The feature 'Heating_OthW' has a Mean Decrease in Gini of 0.000000\n",
      "280. The feature 'GarageCond_Po' has a Mean Decrease in Gini of 0.000000\n",
      "281. The feature 'Condition2_RRNn' has a Mean Decrease in Gini of 0.000000\n",
      "282. The feature 'Exterior1st_Stone' has a Mean Decrease in Gini of 0.000000\n",
      "283. The feature 'Street_Pave' has a Mean Decrease in Gini of 0.000000\n",
      "284. The feature 'Exterior2nd_ImStucc' has a Mean Decrease in Gini of 0.000000\n",
      "285. The feature 'HeatingQC_Po' has a Mean Decrease in Gini of 0.000000\n",
      "286. The feature 'Exterior1st_ImStucc' has a Mean Decrease in Gini of 0.000000\n",
      "287. The feature 'Electrical_FuseP' has a Mean Decrease in Gini of 0.000000\n",
      "288. The feature 'Neighborhood_Blueste' has a Mean Decrease in Gini of 0.000000\n"
     ]
    }
   ],
   "source": [
    "names_index = names\n",
    "variable_importance(importances_rf, indices_rf)"
   ]
  },
  {
   "cell_type": "code",
   "execution_count": 54,
   "metadata": {},
   "outputs": [],
   "source": [
    "def variable_importance_plot(importance, indices, top= 20, Fontsize = 16):\n",
    "    \"\"\"\n",
    "    Purpose\n",
    "    ----------\n",
    "    Prints bar chart detailing variable importance for CART model\n",
    "    NOTE: feature_space list was created because the bar chart\n",
    "    was transposed and index would be in incorrect order.\n",
    "\n",
    "    Parameters\n",
    "    ----------\n",
    "    importance_desc: Array returned from feature_importances_ for CART\n",
    "                    models organized in descending order\n",
    "\n",
    "    indices: Organized index of dataframe from largest to smallest\n",
    "                    based on feature_importances_\n",
    "    Returns:\n",
    "    ----------\n",
    "    Returns variable importance plot in descending order\n",
    "    \"\"\"\n",
    "    index = np.arange(len(names_index[0:20]))\n",
    "\n",
    "    importance_desc = sorted(importance[0:20])\n",
    "    feature_space = []\n",
    "    for i in range(top-1, -1, -1):\n",
    "        feature_space.append(names_index[indices[i]])\n",
    "\n",
    "    fig, ax = plt.subplots(figsize=(8, 8))\n",
    "\n",
    "    plt.title('Feature importances for Random Forest Model\\\n",
    "    \\nHeart Disease',fontsize = Fontsize)\n",
    "    plt.barh(index,\n",
    "         importance_desc,\n",
    "         align=\"center\",\n",
    "         color = '#875FDB')\n",
    "    plt.yticks(index,\n",
    "           feature_space,fontsize = 10)\n",
    "\n",
    "    plt.xlim(0, max(importance_desc))\n",
    "    plt.xlabel('Mean Decrease in Gini',fontsize = Fontsize)\n",
    "    plt.ylabel('Feature',fontsize = Fontsize)\n",
    "\n",
    "    plt.show()\n",
    "    plt.close()"
   ]
  },
  {
   "cell_type": "code",
   "execution_count": 55,
   "metadata": {},
   "outputs": [
    {
     "data": {
      "image/png": "[encoded data removed]",
      "text/plain": [
       "<Figure size 576x576 with 1 Axes>"
      ]
     },
     "metadata": {},
     "output_type": "display_data"
    }
   ],
   "source": [
    "variable_importance_plot(importances_rf, indices_rf, top=20, Fontsize = 20)"
   ]
  },
  {
   "cell_type": "code",
   "execution_count": null,
   "metadata": {},
   "outputs": [],
   "source": []
  },
  {
   "cell_type": "code",
   "execution_count": null,
   "metadata": {},
   "outputs": [],
   "source": []
  }
 ],
 "metadata": {
  "kernelspec": {
   "display_name": "Python 3",
   "language": "python",
   "name": "python3"
  },
  "language_info": {
   "codemirror_mode": {
    "name": "ipython",
    "version": 3
   },
   "file_extension": ".py",
   "mimetype": "text/x-python",
   "name": "python",
   "nbconvert_exporter": "python",
   "pygments_lexer": "ipython3",
   "version": "3.6.4"
  }
 },
 "nbformat": 4,
 "nbformat_minor": 2
}
